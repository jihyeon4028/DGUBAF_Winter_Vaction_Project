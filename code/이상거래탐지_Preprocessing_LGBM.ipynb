{
  "nbformat": 4,
  "nbformat_minor": 0,
  "metadata": {
    "kernelspec": {
      "display_name": "Python 3",
      "language": "python",
      "name": "python3"
    },
    "language_info": {
      "codemirror_mode": {
        "name": "ipython",
        "version": 3
      },
      "file_extension": ".py",
      "mimetype": "text/x-python",
      "name": "python",
      "nbconvert_exporter": "python",
      "pygments_lexer": "ipython3",
      "version": "3.7.6"
    },
    "colab": {
      "name": "이상거래탐지_Preprocessing_LGBM",
      "provenance": [],
      "collapsed_sections": []
    }
  },
  "cells": [
    {
      "cell_type": "markdown",
      "metadata": {
        "id": "ZCdSm6WJdZBD"
      },
      "source": [
        "# 이상거래탐지 creditcard "
      ]
    },
    {
      "cell_type": "markdown",
      "metadata": {
        "id": "qHJAX2gmdZBc"
      },
      "source": [
        "### 00. 데이터 불러오기"
      ]
    },
    {
      "cell_type": "code",
      "metadata": {
        "id": "B87_H9PDdZBf"
      },
      "source": [
        "import pandas as pd \n",
        "import numpy as np\n",
        "import seaborn as sns\n",
        "import sklearn\n",
        "\n",
        "from sklearn.model_selection import train_test_split\n",
        "\n",
        "import warnings\n",
        "warnings.filterwarnings('ignore')"
      ],
      "execution_count": null,
      "outputs": []
    },
    {
      "cell_type": "code",
      "metadata": {
        "colab": {
          "base_uri": "https://localhost:8080/"
        },
        "id": "MIPUc3jddgzk",
        "outputId": "0e1810d6-6ce3-4b13-9ffb-3ac738c21900"
      },
      "source": [
        "from google.colab import drive\n",
        "drive.mount('/content/drive')"
      ],
      "execution_count": null,
      "outputs": [
        {
          "output_type": "stream",
          "text": [
            "Drive already mounted at /content/drive; to attempt to forcibly remount, call drive.mount(\"/content/drive\", force_remount=True).\n"
          ],
          "name": "stdout"
        }
      ]
    },
    {
      "cell_type": "code",
      "metadata": {
        "id": "i1pvFjmJdZBl"
      },
      "source": [
        "# 원본 데이터셋 creditcard 불러오기\n",
        "\n",
        "creditcard = pd.read_csv('/content/drive/MyDrive/creditcard.csv')\n",
        "\n",
        "# df : 보기 쉽게 열 조절한 데이터셋 \n",
        "df = creditcard.reindex(columns=['Class', 'Time', 'Amount', \n",
        "                                 'V1', 'V2', 'V3', 'V4', 'V5', 'V6', 'V7', 'V8', 'V9', 'V10',\n",
        "                                 'V11', 'V12', 'V13', 'V14', 'V15', 'V16', 'V17', 'V18', 'V19', 'V20',\n",
        "                                 'V21', 'V22', 'V23', 'V24', 'V25', 'V26', 'V27', 'V28'])\n",
        "# Class(타겟 변수) 범주화\n",
        "df['Class']=df['Class'].astype('category')"
      ],
      "execution_count": null,
      "outputs": []
    },
    {
      "cell_type": "markdown",
      "metadata": {
        "id": "EAXUHmJzdZBj"
      },
      "source": [
        "### 01. 데이터 전처리"
      ]
    },
    {
      "cell_type": "code",
      "metadata": {
        "id": "q38TOpQ3dZBw"
      },
      "source": [
        "## 처음 행 보존, 중복 행 제거 ##\n",
        "df.drop_duplicates(keep='first', inplace=True) "
      ],
      "execution_count": null,
      "outputs": []
    },
    {
      "cell_type": "code",
      "metadata": {
        "id": "gJnUFgtBdZBy"
      },
      "source": [
        "## 아웃라이어 제거 함수 생성 ##\n",
        "\n",
        "def remove_outlier (df_cp, column):\n",
        "    fraud = df_cp[df_cp['Class']== 0][column]\n",
        "    \n",
        "    quantile_25 = np.percentile(fraud.values, 25)\n",
        "    quantile_75 = np.percentile(fraud.values, 75)\n",
        "    \n",
        "    iqr = quantile_75 - quantile_25\n",
        "    iqr = iqr * 3\n",
        "\n",
        "    lowest  = quantile_25 - iqr\n",
        "    highest = quantile_75 + iqr\n",
        "    \n",
        "    outlier_idx = fraud[(fraud < lowest) | (fraud > highest)].index\n",
        "    print('outlier 개수 :' ,len(outlier_idx))\n",
        "    \n",
        "    df_cp.drop(outlier_idx, axis = 0, inplace =True)\n",
        "    print('shape : ' ,df_cp.shape)\n",
        "    \n",
        "    return df_cp   \n",
        "    return outlier_idx"
      ],
      "execution_count": null,
      "outputs": []
    },
    {
      "cell_type": "code",
      "metadata": {
        "colab": {
          "base_uri": "https://localhost:8080/"
        },
        "id": "hS7ShpetdZB0",
        "outputId": "f2b7dce5-d569-41a0-b3d5-874a741f7f7d"
      },
      "source": [
        "## 데이터셋 복사 ##\n",
        "df1 = df.copy()  # 원 데이터 보존\n",
        "\n",
        "## df1 V17 outlier 제거 ## \n",
        "df1 = remove_outlier(df1, column ='V17')\n",
        "\n",
        "## df1 V14 outlier 제거 ## \n",
        "df1 = remove_outlier(df1, column ='V14')\n",
        "\n",
        "## df1 V12 outlier 제거 ## \n",
        "df1 = remove_outlier(df1, column ='V12')\n",
        "\n",
        "## df1 V10 outlier 제거 ## \n",
        "df1 = remove_outlier(df1, column ='V10')\n",
        "\n",
        "## df1 V16 outlier 제거 ## \n",
        "df1 = remove_outlier(df1, column ='V16')"
      ],
      "execution_count": null,
      "outputs": [
        {
          "output_type": "stream",
          "text": [
            "outlier 개수 : 1093\n",
            "shape :  (282633, 31)\n",
            "outlier 개수 : 1625\n",
            "shape :  (281008, 31)\n",
            "outlier 개수 : 859\n",
            "shape :  (280149, 31)\n",
            "outlier 개수 : 2293\n",
            "shape :  (277856, 31)\n",
            "outlier 개수 : 239\n",
            "shape :  (277617, 31)\n"
          ],
          "name": "stdout"
        }
      ]
    },
    {
      "cell_type": "markdown",
      "metadata": {
        "id": "-NSAxWAh3d8W"
      },
      "source": [
        "### 02. train, test set 분리"
      ]
    },
    {
      "cell_type": "code",
      "metadata": {
        "id": "d9kiBZjYdZB6"
      },
      "source": [
        "x = df1.iloc[:, 1 :]  \n",
        "y = df1.iloc[:, 0 ]\n",
        "x_train, x_test, y_train, y_test = train_test_split(x,y, test_size = 0.3, random_state = 1000)"
      ],
      "execution_count": null,
      "outputs": []
    },
    {
      "cell_type": "markdown",
      "metadata": {
        "id": "ns1OQR4waBIO"
      },
      "source": [
        "### 03. train set 샘플링"
      ]
    },
    {
      "cell_type": "code",
      "metadata": {
        "colab": {
          "base_uri": "https://localhost:8080/"
        },
        "id": "YR4l3_9P3l-2",
        "outputId": "ea0c06aa-78c3-4604-d116-26017e38cc78"
      },
      "source": [
        "pip install imbalanced-learn"
      ],
      "execution_count": null,
      "outputs": [
        {
          "output_type": "stream",
          "text": [
            "Requirement already satisfied: imbalanced-learn in /usr/local/lib/python3.6/dist-packages (0.4.3)\n",
            "Requirement already satisfied: scipy>=0.13.3 in /usr/local/lib/python3.6/dist-packages (from imbalanced-learn) (1.4.1)\n",
            "Requirement already satisfied: numpy>=1.8.2 in /usr/local/lib/python3.6/dist-packages (from imbalanced-learn) (1.19.5)\n",
            "Requirement already satisfied: scikit-learn>=0.20 in /usr/local/lib/python3.6/dist-packages (from imbalanced-learn) (0.22.2.post1)\n",
            "Requirement already satisfied: joblib>=0.11 in /usr/local/lib/python3.6/dist-packages (from scikit-learn>=0.20->imbalanced-learn) (1.0.0)\n"
          ],
          "name": "stdout"
        }
      ]
    },
    {
      "cell_type": "code",
      "metadata": {
        "colab": {
          "base_uri": "https://localhost:8080/"
        },
        "id": "6-AKXebV3nFl",
        "outputId": "5469c825-8671-4b19-c72c-a37a93612801"
      },
      "source": [
        "pip install delayed"
      ],
      "execution_count": null,
      "outputs": [
        {
          "output_type": "stream",
          "text": [
            "Requirement already satisfied: delayed in /usr/local/lib/python3.6/dist-packages (0.11.0b1)\n",
            "Requirement already satisfied: hiredis in /usr/local/lib/python3.6/dist-packages (from delayed) (1.1.0)\n",
            "Requirement already satisfied: redis in /usr/local/lib/python3.6/dist-packages (from delayed) (3.5.3)\n"
          ],
          "name": "stdout"
        }
      ]
    },
    {
      "cell_type": "code",
      "metadata": {
        "colab": {
          "base_uri": "https://localhost:8080/"
        },
        "id": "LU0O0MUghB7F",
        "outputId": "fd696472-7135-4a8f-b059-4b63eaa2d5d3"
      },
      "source": [
        "from imblearn.combine import SMOTETomek\n",
        "\n",
        "x_train_st, y_train_st = SMOTETomek(random_state=4).fit_sample(x_train, y_train)\n",
        "\n",
        "print('SMOTETomek 적용 전 train feature data set: ', x_train.shape, y_train.shape)\n",
        "print('SMOTETomek 적용 후 train feature data set: ', x_train_st.shape, y_train_st.shape)\n",
        "print('SMOTETomek 적용 전 label 값 분포: \\n', pd.Series(y_train).value_counts())\n",
        "print('SMOTETomek 적용 후 label 값 분포: \\n', pd.Series(y_train_st).value_counts())"
      ],
      "execution_count": null,
      "outputs": [
        {
          "output_type": "stream",
          "text": [
            "/usr/local/lib/python3.6/dist-packages/sklearn/utils/deprecation.py:87: FutureWarning: Function safe_indexing is deprecated; safe_indexing is deprecated in version 0.22 and will be removed in version 0.24.\n",
            "  warnings.warn(msg, category=FutureWarning)\n"
          ],
          "name": "stderr"
        },
        {
          "output_type": "stream",
          "text": [
            "SMOTETomek 적용 전 train feature data set:  (194331, 30) (194331,)\n",
            "SMOTETomek 적용 후 train feature data set:  (386908, 30) (386908,)\n",
            "SMOTETomek 적용 전 label 값 분포: \n",
            " 0    193986\n",
            "1       345\n",
            "Name: Class, dtype: int64\n",
            "SMOTETomek 적용 후 label 값 분포: \n",
            " 1    193454\n",
            "0    193454\n",
            "dtype: int64\n"
          ],
          "name": "stdout"
        },
        {
          "output_type": "stream",
          "text": [
            "/usr/local/lib/python3.6/dist-packages/sklearn/utils/deprecation.py:87: FutureWarning: Function safe_indexing is deprecated; safe_indexing is deprecated in version 0.22 and will be removed in version 0.24.\n",
            "  warnings.warn(msg, category=FutureWarning)\n"
          ],
          "name": "stderr"
        }
      ]
    },
    {
      "cell_type": "code",
      "metadata": {
        "id": "A0-jF89vfcgo"
      },
      "source": [
        "x_train_st = pd.DataFrame(x_train_st)\n",
        "x_train_st.columns = ['Time', 'Amount', \n",
        "                                 'V1', 'V2', 'V3', 'V4', 'V5', 'V6', 'V7', 'V8', 'V9', 'V10',\n",
        "                                 'V11', 'V12', 'V13', 'V14', 'V15', 'V16', 'V17', 'V18', 'V19', 'V20',\n",
        "                                 'V21', 'V22', 'V23', 'V24', 'V25', 'V26', 'V27', 'V28']\n",
        "y_train_st = pd.DataFrame(y_train_st)\n",
        "y_train_st.columns = ['Class']"
      ],
      "execution_count": null,
      "outputs": []
    },
    {
      "cell_type": "code",
      "metadata": {
        "id": "tAaaQhSa-DZq"
      },
      "source": [
        "# 라이브러리 불러오기\n",
        "import lightgbm as lgbm\n",
        "from sklearn.metrics import roc_auc_score, make_scorer\n",
        "from sklearn.model_selection import cross_validate\n",
        "from sklearn.model_selection import cross_val_score\n",
        "from sklearn.model_selection import train_test_split\n",
        "from sklearn import svm, metrics, model_selection\n",
        "from sklearn.metrics import classification_report\n",
        "import statsmodels.api as sm"
      ],
      "execution_count": null,
      "outputs": []
    },
    {
      "cell_type": "code",
      "metadata": {
        "id": "iYTmHSd4-Jm0"
      },
      "source": [
        "def metrics(y_test, pred):\n",
        "    accuracy = accuracy_score(y_test,pred)\n",
        "    precision = precision_score(y_test, pred)\n",
        "    recall = recall_score(y_test, pred)\n",
        "    f1 = f1_score(y_test, pred)\n",
        "    roc_score = roc_auc_score(y_test, pred)\n",
        "    \n",
        "    print('정확도 : {0:2f}, 정밀도 : {1:2f}, 재현율 : {2:2f}'.format(accuracy, precision, recall))\n",
        "    print('f1-score : {0:2f}, auc : {1:2f}'.format(f1, roc_score))\n",
        "\n",
        "def modeling(model, x_train, x_test, y_train, y_test):\n",
        "    model.fit(x_train,y_train)\n",
        "    pred = model.predict(x_test)\n",
        "    metrics(y_test,pred)"
      ],
      "execution_count": null,
      "outputs": []
    },
    {
      "cell_type": "code",
      "metadata": {
        "id": "IB4fUdbHH_Wl"
      },
      "source": [
        "from bayes_opt import BayesianOptimization"
      ],
      "execution_count": null,
      "outputs": []
    },
    {
      "cell_type": "code",
      "metadata": {
        "id": "nKUXCQcQJbRi"
      },
      "source": [
        "# 하이퍼 파라미터 탐색 함수 생성\n",
        "def lgbm_cv(learning_rate, num_leaves, max_depth, min_child_weight, colsample_bytree, feature_fraction, bagging_fraction, lambda_l1, lambda_l2):\n",
        "    model = lgbm.LGBMClassifier(learning_rate=learning_rate,\n",
        "                                n_estimators = 300,\n",
        "                                num_leaves = int(round(num_leaves)),\n",
        "                                max_depth = int(round(max_depth)),\n",
        "                                min_child_weight = int(round(min_child_weight)),\n",
        "                                colsample_bytree = colsample_bytree,\n",
        "                                feature_fraction = max(min(feature_fraction, 1), 0),\n",
        "                                bagging_fraction = max(min(bagging_fraction, 1), 0),\n",
        "                                lambda_l1 = max(lambda_l1, 0),\n",
        "                                lambda_l2 = max(lambda_l2, 0)\n",
        "                               )\n",
        "    scoring = {'roc_auc_score': make_scorer(roc_auc_score)}\n",
        "    result = cross_validate(model, x_train, y_train, cv=5, scoring=scoring)\n",
        "    auc_score = result[\"test_roc_auc_score\"].mean()\n",
        "    return auc_score"
      ],
      "execution_count": null,
      "outputs": []
    },
    {
      "cell_type": "code",
      "metadata": {
        "colab": {
          "base_uri": "https://localhost:8080/"
        },
        "id": "Wxt84kEgJHND",
        "outputId": "29529739-4f90-4d85-f034-fd73ca3eb8fc"
      },
      "source": [
        "lgbmBO = BayesianOptimization(f = lgbm_cv, pbounds = pbounds, verbose = 2, random_state = 0)\n",
        "lgbmBO.maximize(init_points=5, n_iter = 5, acq='ei', xi=0.01)"
      ],
      "execution_count": null,
      "outputs": [
        {
          "output_type": "stream",
          "text": [
            "|   iter    |  target   | baggin... | colsam... | featur... | lambda_l1 | lambda_l2 | learni... | max_depth | min_ch... | num_le... |\n",
            "-------------------------------------------------------------------------------------------------------------------------------------\n",
            "| \u001b[0m 1       \u001b[0m | \u001b[0m 0.8435  \u001b[0m | \u001b[0m 0.5434  \u001b[0m | \u001b[0m 0.708   \u001b[0m | \u001b[0m 0.5968  \u001b[0m | \u001b[0m 0.5394  \u001b[0m | \u001b[0m 0.4194  \u001b[0m | \u001b[0m 0.03584 \u001b[0m | \u001b[0m 12.06   \u001b[0m | \u001b[0m 92.42   \u001b[0m | \u001b[0m 589.1   \u001b[0m |\n",
            "| \u001b[95m 2       \u001b[0m | \u001b[95m 0.8855  \u001b[0m | \u001b[95m 0.3797  \u001b[0m | \u001b[95m 0.7838  \u001b[0m | \u001b[95m 0.5237  \u001b[0m | \u001b[95m 0.5624  \u001b[0m | \u001b[95m 0.9163  \u001b[0m | \u001b[95m 0.01284 \u001b[0m | \u001b[95m 4.004   \u001b[0m | \u001b[95m 31.42   \u001b[0m | \u001b[95m 549.8   \u001b[0m |\n",
            "| \u001b[0m 3       \u001b[0m | \u001b[0m 0.871   \u001b[0m | \u001b[0m 0.7704  \u001b[0m | \u001b[0m 0.8613  \u001b[0m | \u001b[0m 0.9688  \u001b[0m | \u001b[0m 0.7912  \u001b[0m | \u001b[0m 0.4569  \u001b[0m | \u001b[0m 0.04122 \u001b[0m | \u001b[0m 4.72    \u001b[0m | \u001b[0m 74.79   \u001b[0m | \u001b[0m 343.0   \u001b[0m |\n",
            "| \u001b[95m 4       \u001b[0m | \u001b[95m 0.8986  \u001b[0m | \u001b[95m 0.9352  \u001b[0m | \u001b[95m 0.5166  \u001b[0m | \u001b[95m 0.4106  \u001b[0m | \u001b[95m 0.2619  \u001b[0m | \u001b[95m 0.7665  \u001b[0m | \u001b[95m 0.02825 \u001b[0m | \u001b[95m 15.07   \u001b[0m | \u001b[95m 31.32   \u001b[0m | \u001b[95m 485.3   \u001b[0m |\n",
            "| \u001b[0m 5       \u001b[0m | \u001b[0m 0.8971  \u001b[0m | \u001b[0m 0.606   \u001b[0m | \u001b[0m 0.6108  \u001b[0m | \u001b[0m 0.9343  \u001b[0m | \u001b[0m 0.675   \u001b[0m | \u001b[0m 0.3559  \u001b[0m | \u001b[0m 0.02748 \u001b[0m | \u001b[0m 18.05   \u001b[0m | \u001b[0m 34.22   \u001b[0m | \u001b[0m 500.0   \u001b[0m |\n",
            "| \u001b[0m 6       \u001b[0m | \u001b[0m 0.7928  \u001b[0m | \u001b[0m 0.2534  \u001b[0m | \u001b[0m 0.2244  \u001b[0m | \u001b[0m 0.05377 \u001b[0m | \u001b[0m 0.7039  \u001b[0m | \u001b[0m 0.7819  \u001b[0m | \u001b[0m 0.02059 \u001b[0m | \u001b[0m 21.06   \u001b[0m | \u001b[0m 30.01   \u001b[0m | \u001b[0m 300.5   \u001b[0m |\n",
            "| \u001b[0m 7       \u001b[0m | \u001b[0m 0.8377  \u001b[0m | \u001b[0m 0.3596  \u001b[0m | \u001b[0m 0.9589  \u001b[0m | \u001b[0m 0.5081  \u001b[0m | \u001b[0m 0.7929  \u001b[0m | \u001b[0m 0.6546  \u001b[0m | \u001b[0m 0.04212 \u001b[0m | \u001b[0m 2.734   \u001b[0m | \u001b[0m 98.27   \u001b[0m | \u001b[0m 450.7   \u001b[0m |\n",
            "| \u001b[95m 8       \u001b[0m | \u001b[95m 0.9     \u001b[0m | \u001b[95m 0.5375  \u001b[0m | \u001b[95m 0.6531  \u001b[0m | \u001b[95m 0.5267  \u001b[0m | \u001b[95m 0.161   \u001b[0m | \u001b[95m 0.9056  \u001b[0m | \u001b[95m 0.04798 \u001b[0m | \u001b[95m 24.68   \u001b[0m | \u001b[95m 32.55   \u001b[0m | \u001b[95m 591.0   \u001b[0m |\n",
            "| \u001b[0m 9       \u001b[0m | \u001b[0m 0.8667  \u001b[0m | \u001b[0m 0.8848  \u001b[0m | \u001b[0m 0.8756  \u001b[0m | \u001b[0m 0.02452 \u001b[0m | \u001b[0m 0.5752  \u001b[0m | \u001b[0m 0.3462  \u001b[0m | \u001b[0m 0.044   \u001b[0m | \u001b[0m 24.86   \u001b[0m | \u001b[0m 31.14   \u001b[0m | \u001b[0m 410.8   \u001b[0m |\n",
            "| \u001b[0m 10      \u001b[0m | \u001b[0m 0.8348  \u001b[0m | \u001b[0m 0.4617  \u001b[0m | \u001b[0m 0.7579  \u001b[0m | \u001b[0m 0.9127  \u001b[0m | \u001b[0m 0.6953  \u001b[0m | \u001b[0m 0.2154  \u001b[0m | \u001b[0m 0.04239 \u001b[0m | \u001b[0m 4.188   \u001b[0m | \u001b[0m 99.12   \u001b[0m | \u001b[0m 302.7   \u001b[0m |\n",
            "=====================================================================================================================================\n"
          ],
          "name": "stdout"
        }
      ]
    },
    {
      "cell_type": "code",
      "metadata": {
        "id": "7ilIq3ooMreZ"
      },
      "source": [
        "fit_lgbm = lgbm.LGBMClassifier(learning_rate=lgbmBO.max['params']['learning_rate'],\n",
        "                               num_leaves = int(round(lgbmBO.max['params']['num_leaves'])),\n",
        "                               max_depth = int(round(lgbmBO.max['params']['max_depth'])),\n",
        "                               min_child_weight = int(round(lgbmBO.max['params']['min_child_weight'])),\n",
        "                               colsample_bytree=lgbmBO.max['params']['colsample_bytree'],\n",
        "                               feature_fraction = max(min(lgbmBO.max['params']['feature_fraction'], 1), 0),\n",
        "                               bagging_fraction = max(min(lgbmBO.max['params']['bagging_fraction'], 1), 0),\n",
        "                               lambda_l1 = lgbmBO.max['params']['lambda_l1'],\n",
        "                               lambda_l2 = lgbmBO.max['params']['lambda_l2']\n",
        "                               )"
      ],
      "execution_count": null,
      "outputs": []
    },
    {
      "cell_type": "code",
      "metadata": {
        "id": "Sey73HzBNWXG"
      },
      "source": [
        "from sklearn.metrics import accuracy_score\n",
        "from sklearn.metrics import confusion_matrix\n",
        "from sklearn.metrics import classification_report"
      ],
      "execution_count": null,
      "outputs": []
    },
    {
      "cell_type": "code",
      "metadata": {
        "colab": {
          "base_uri": "https://localhost:8080/"
        },
        "id": "PfNZMm-OURcG",
        "outputId": "cd93f4a5-c06d-422d-acdb-c5a533ed54c6"
      },
      "source": [
        "y_train_st"
      ],
      "execution_count": null,
      "outputs": [
        {
          "output_type": "execute_result",
          "data": {
            "text/plain": [
              "array([0, 0, 0, ..., 1, 1, 1])"
            ]
          },
          "metadata": {
            "tags": []
          },
          "execution_count": 97
        }
      ]
    },
    {
      "cell_type": "code",
      "metadata": {
        "colab": {
          "base_uri": "https://localhost:8080/"
        },
        "id": "AK-cBzCa-RDo",
        "outputId": "142e3bd6-c0d2-4374-c6b8-49446434963e"
      },
      "source": [
        "fit_lgbm.fit(x_train,y_train)\n",
        "y_pred = fit_lgbm.predict(x_test)\n",
        "print(classification_report(y_test, y_pred))\n",
        "accuracy=accuracy_score(y_pred, y_test)\n",
        "# 정확도 확인\n",
        "print('LightGBM Model accuracy score: {0:0.4f}'.format(accuracy_score(y_test, y_pred)))\n",
        "# 과적합 확인\n",
        "print('Train set score: {:.4f}'.format(fit_lgbm.score(x_train, y_train)))\n",
        "print('Test set score: {:.4f}'.format(fit_lgbm.score(x_test, y_test)))"
      ],
      "execution_count": null,
      "outputs": [
        {
          "output_type": "stream",
          "text": [
            "              precision    recall  f1-score   support\n",
            "\n",
            "           0       1.00      1.00      1.00     83158\n",
            "           1       1.00      0.81      0.90       128\n",
            "\n",
            "    accuracy                           1.00     83286\n",
            "   macro avg       1.00      0.91      0.95     83286\n",
            "weighted avg       1.00      1.00      1.00     83286\n",
            "\n",
            "LightGBM Model accuracy score: 0.9997\n",
            "Train set score: 0.9996\n",
            "Test set score: 0.9997\n"
          ],
          "name": "stdout"
        }
      ]
    },
    {
      "cell_type": "code",
      "metadata": {
        "id": "bteaGBhLNgIE"
      },
      "source": [
        "# 하이퍼 파라미터 탐색 함수 생성\n",
        "def lgbm_cv(learning_rate, num_leaves, max_depth, min_child_weight, colsample_bytree, feature_fraction, bagging_fraction, lambda_l1, lambda_l2):\n",
        "    model = lgbm.LGBMClassifier(learning_rate=learning_rate,\n",
        "                                n_estimators = 300,\n",
        "                                num_leaves = int(round(num_leaves)),\n",
        "                                max_depth = int(round(max_depth)),\n",
        "                                min_child_weight = int(round(min_child_weight)),\n",
        "                                colsample_bytree = colsample_bytree,\n",
        "                                feature_fraction = max(min(feature_fraction, 1), 0),\n",
        "                                bagging_fraction = max(min(bagging_fraction, 1), 0),\n",
        "                                lambda_l1 = max(lambda_l1, 0),\n",
        "                                lambda_l2 = max(lambda_l2, 0)\n",
        "                               )\n",
        "    scoring = {'roc_auc_score': make_scorer(roc_auc_score)}\n",
        "    result = cross_validate(model, x_train_st, y_train_st, cv=5, scoring=scoring)\n",
        "    auc_score = result[\"test_roc_auc_score\"].mean()\n",
        "    return auc_score"
      ],
      "execution_count": null,
      "outputs": []
    },
    {
      "cell_type": "code",
      "metadata": {
        "id": "cFLhFcCkOsi5"
      },
      "source": [
        "lgbmBO = BayesianOptimization(f = lgbm_cv, pbounds = pbounds, verbose = 2, random_state = 0)\n",
        "lgbmBO.maximize(init_points=5, n_iter = 5, acq='ei', xi=0.01)"
      ],
      "execution_count": null,
      "outputs": []
    },
    {
      "cell_type": "code",
      "metadata": {
        "colab": {
          "base_uri": "https://localhost:8080/"
        },
        "id": "EmyDtsm--qxs",
        "outputId": "fecbaef4-5971-4b2a-e3c7-352b72926925"
      },
      "source": [
        "lgbm.fit(x_train_st,y_train_st)\n",
        "y_pred = lgbm.predict(x_test)\n",
        "print(classification_report(y_test, y_pred))"
      ],
      "execution_count": null,
      "outputs": [
        {
          "output_type": "stream",
          "text": [
            "/usr/local/lib/python3.6/dist-packages/sklearn/preprocessing/_label.py:235: DataConversionWarning: A column-vector y was passed when a 1d array was expected. Please change the shape of y to (n_samples, ), for example using ravel().\n",
            "  y = column_or_1d(y, warn=True)\n",
            "/usr/local/lib/python3.6/dist-packages/sklearn/preprocessing/_label.py:268: DataConversionWarning: A column-vector y was passed when a 1d array was expected. Please change the shape of y to (n_samples, ), for example using ravel().\n",
            "  y = column_or_1d(y, warn=True)\n"
          ],
          "name": "stderr"
        },
        {
          "output_type": "stream",
          "text": [
            "              precision    recall  f1-score   support\n",
            "\n",
            "           0       1.00      1.00      1.00     83158\n",
            "           1       0.88      0.88      0.88       128\n",
            "\n",
            "    accuracy                           1.00     83286\n",
            "   macro avg       0.94      0.94      0.94     83286\n",
            "weighted avg       1.00      1.00      1.00     83286\n",
            "\n"
          ],
          "name": "stdout"
        }
      ]
    },
    {
      "cell_type": "markdown",
      "metadata": {
        "id": "arLAGX5ihWdT"
      },
      "source": [
        "### 04. train set 데이터 시각화 + 전처리"
      ]
    },
    {
      "cell_type": "code",
      "metadata": {
        "id": "-GkgZbuQhVYS"
      },
      "source": [
        "## 글꼴설정\n",
        "import matplotlib as mpl\n",
        "import matplotlib.pylab as plt\n",
        "\n",
        "# 한글깨짐 해결\n",
        "plt.rcParams[\"font.family\"] = \"NanumGothic\"\n",
        "\n",
        "# 마이너스 깨짐 해결\n",
        "mpl.rcParams['axes.unicode_minus'] = False"
      ],
      "execution_count": null,
      "outputs": []
    },
    {
      "cell_type": "code",
      "metadata": {
        "id": "HMRYfTj9mA4b"
      },
      "source": [
        "train_st = pd.concat([y_train_st, x_train_st], axis=1)"
      ],
      "execution_count": null,
      "outputs": []
    },
    {
      "cell_type": "code",
      "metadata": {
        "colab": {
          "base_uri": "https://localhost:8080/",
          "height": 985
        },
        "id": "qDIz-tqZk-Wn",
        "outputId": "58d6fb24-dbee-4c14-bc0c-ea7dbe2af0ba"
      },
      "source": [
        "## 상관관계 확인 ##\n",
        "corr= train_st.corr()\n",
        "corr.sort_values(by='Class', ascending=True) # 타겟변수와 상관관계 높은 순\n",
        "\n",
        "## 17, 14, 12, 10, 16 -> 이상치 이미 제거됨 ##"
      ],
      "execution_count": null,
      "outputs": [
        {
          "output_type": "execute_result",
          "data": {
            "text/html": [
              "<div>\n",
              "<style scoped>\n",
              "    .dataframe tbody tr th:only-of-type {\n",
              "        vertical-align: middle;\n",
              "    }\n",
              "\n",
              "    .dataframe tbody tr th {\n",
              "        vertical-align: top;\n",
              "    }\n",
              "\n",
              "    .dataframe thead th {\n",
              "        text-align: right;\n",
              "    }\n",
              "</style>\n",
              "<table border=\"1\" class=\"dataframe\">\n",
              "  <thead>\n",
              "    <tr style=\"text-align: right;\">\n",
              "      <th></th>\n",
              "      <th>Class</th>\n",
              "      <th>Time</th>\n",
              "      <th>Amount</th>\n",
              "      <th>V1</th>\n",
              "      <th>V2</th>\n",
              "      <th>V3</th>\n",
              "      <th>V4</th>\n",
              "      <th>V5</th>\n",
              "      <th>V6</th>\n",
              "      <th>V7</th>\n",
              "      <th>V8</th>\n",
              "      <th>V9</th>\n",
              "      <th>V10</th>\n",
              "      <th>V11</th>\n",
              "      <th>V12</th>\n",
              "      <th>V13</th>\n",
              "      <th>V14</th>\n",
              "      <th>V15</th>\n",
              "      <th>V16</th>\n",
              "      <th>V17</th>\n",
              "      <th>V18</th>\n",
              "      <th>V19</th>\n",
              "      <th>V20</th>\n",
              "      <th>V21</th>\n",
              "      <th>V22</th>\n",
              "      <th>V23</th>\n",
              "      <th>V24</th>\n",
              "      <th>V25</th>\n",
              "      <th>V26</th>\n",
              "      <th>V27</th>\n",
              "      <th>V28</th>\n",
              "    </tr>\n",
              "  </thead>\n",
              "  <tbody>\n",
              "    <tr>\n",
              "      <th>V14</th>\n",
              "      <td>-0.786637</td>\n",
              "      <td>0.195020</td>\n",
              "      <td>0.034042</td>\n",
              "      <td>0.487877</td>\n",
              "      <td>-0.609388</td>\n",
              "      <td>0.693418</td>\n",
              "      <td>-0.834787</td>\n",
              "      <td>0.449488</td>\n",
              "      <td>0.579104</td>\n",
              "      <td>0.612603</td>\n",
              "      <td>-0.281957</td>\n",
              "      <td>0.740461</td>\n",
              "      <td>0.821362</td>\n",
              "      <td>-0.893802</td>\n",
              "      <td>0.901551</td>\n",
              "      <td>-0.056518</td>\n",
              "      <td>1.000000</td>\n",
              "      <td>0.018134</td>\n",
              "      <td>0.805011</td>\n",
              "      <td>0.757630</td>\n",
              "      <td>0.651896</td>\n",
              "      <td>-0.386695</td>\n",
              "      <td>-0.195935</td>\n",
              "      <td>-0.250197</td>\n",
              "      <td>0.011799</td>\n",
              "      <td>0.057319</td>\n",
              "      <td>0.136781</td>\n",
              "      <td>-0.040617</td>\n",
              "      <td>-0.176512</td>\n",
              "      <td>-0.220064</td>\n",
              "      <td>-0.124110</td>\n",
              "    </tr>\n",
              "    <tr>\n",
              "      <th>V12</th>\n",
              "      <td>-0.697422</td>\n",
              "      <td>0.294843</td>\n",
              "      <td>0.025111</td>\n",
              "      <td>0.608448</td>\n",
              "      <td>-0.693507</td>\n",
              "      <td>0.771116</td>\n",
              "      <td>-0.857716</td>\n",
              "      <td>0.598276</td>\n",
              "      <td>0.536734</td>\n",
              "      <td>0.762233</td>\n",
              "      <td>-0.255808</td>\n",
              "      <td>0.793471</td>\n",
              "      <td>0.905943</td>\n",
              "      <td>-0.907751</td>\n",
              "      <td>1.000000</td>\n",
              "      <td>-0.128189</td>\n",
              "      <td>0.901551</td>\n",
              "      <td>0.074931</td>\n",
              "      <td>0.902015</td>\n",
              "      <td>0.874474</td>\n",
              "      <td>0.796443</td>\n",
              "      <td>-0.454876</td>\n",
              "      <td>-0.248885</td>\n",
              "      <td>-0.140609</td>\n",
              "      <td>-0.095422</td>\n",
              "      <td>0.043104</td>\n",
              "      <td>0.077025</td>\n",
              "      <td>0.052366</td>\n",
              "      <td>-0.138885</td>\n",
              "      <td>-0.085253</td>\n",
              "      <td>-0.019834</td>\n",
              "    </tr>\n",
              "    <tr>\n",
              "      <th>V10</th>\n",
              "      <td>-0.661351</td>\n",
              "      <td>0.262543</td>\n",
              "      <td>-0.008089</td>\n",
              "      <td>0.735772</td>\n",
              "      <td>-0.772014</td>\n",
              "      <td>0.848648</td>\n",
              "      <td>-0.829729</td>\n",
              "      <td>0.726420</td>\n",
              "      <td>0.501954</td>\n",
              "      <td>0.875729</td>\n",
              "      <td>-0.216353</td>\n",
              "      <td>0.842705</td>\n",
              "      <td>1.000000</td>\n",
              "      <td>-0.839544</td>\n",
              "      <td>0.905943</td>\n",
              "      <td>-0.108561</td>\n",
              "      <td>0.821362</td>\n",
              "      <td>0.104726</td>\n",
              "      <td>0.882700</td>\n",
              "      <td>0.877849</td>\n",
              "      <td>0.817614</td>\n",
              "      <td>-0.454128</td>\n",
              "      <td>-0.379269</td>\n",
              "      <td>0.019922</td>\n",
              "      <td>-0.152105</td>\n",
              "      <td>0.015298</td>\n",
              "      <td>0.037051</td>\n",
              "      <td>0.024099</td>\n",
              "      <td>-0.075850</td>\n",
              "      <td>-0.000228</td>\n",
              "      <td>0.093594</td>\n",
              "    </tr>\n",
              "    <tr>\n",
              "      <th>V16</th>\n",
              "      <td>-0.612048</td>\n",
              "      <td>0.279887</td>\n",
              "      <td>-0.020010</td>\n",
              "      <td>0.655014</td>\n",
              "      <td>-0.650242</td>\n",
              "      <td>0.740863</td>\n",
              "      <td>-0.767323</td>\n",
              "      <td>0.681788</td>\n",
              "      <td>0.482987</td>\n",
              "      <td>0.785542</td>\n",
              "      <td>-0.324550</td>\n",
              "      <td>0.776457</td>\n",
              "      <td>0.882700</td>\n",
              "      <td>-0.822214</td>\n",
              "      <td>0.902015</td>\n",
              "      <td>-0.157276</td>\n",
              "      <td>0.805011</td>\n",
              "      <td>-0.007877</td>\n",
              "      <td>1.000000</td>\n",
              "      <td>0.952663</td>\n",
              "      <td>0.902480</td>\n",
              "      <td>-0.625435</td>\n",
              "      <td>-0.214056</td>\n",
              "      <td>-0.188382</td>\n",
              "      <td>-0.116634</td>\n",
              "      <td>0.053970</td>\n",
              "      <td>-0.005020</td>\n",
              "      <td>0.080718</td>\n",
              "      <td>-0.096190</td>\n",
              "      <td>-0.088323</td>\n",
              "      <td>0.019460</td>\n",
              "    </tr>\n",
              "    <tr>\n",
              "      <th>V9</th>\n",
              "      <td>-0.589301</td>\n",
              "      <td>0.189741</td>\n",
              "      <td>0.002685</td>\n",
              "      <td>0.660701</td>\n",
              "      <td>-0.705684</td>\n",
              "      <td>0.762276</td>\n",
              "      <td>-0.800001</td>\n",
              "      <td>0.645043</td>\n",
              "      <td>0.434763</td>\n",
              "      <td>0.778905</td>\n",
              "      <td>-0.212300</td>\n",
              "      <td>1.000000</td>\n",
              "      <td>0.842705</td>\n",
              "      <td>-0.735684</td>\n",
              "      <td>0.793471</td>\n",
              "      <td>-0.093916</td>\n",
              "      <td>0.740461</td>\n",
              "      <td>0.064994</td>\n",
              "      <td>0.776457</td>\n",
              "      <td>0.796417</td>\n",
              "      <td>0.743066</td>\n",
              "      <td>-0.400167</td>\n",
              "      <td>-0.357831</td>\n",
              "      <td>0.066592</td>\n",
              "      <td>-0.161087</td>\n",
              "      <td>0.000837</td>\n",
              "      <td>0.028038</td>\n",
              "      <td>-0.002300</td>\n",
              "      <td>-0.145492</td>\n",
              "      <td>-0.013603</td>\n",
              "      <td>0.105099</td>\n",
              "    </tr>\n",
              "    <tr>\n",
              "      <th>V3</th>\n",
              "      <td>-0.588310</td>\n",
              "      <td>0.169567</td>\n",
              "      <td>-0.029493</td>\n",
              "      <td>0.867165</td>\n",
              "      <td>-0.859314</td>\n",
              "      <td>1.000000</td>\n",
              "      <td>-0.780373</td>\n",
              "      <td>0.835704</td>\n",
              "      <td>0.542929</td>\n",
              "      <td>0.891713</td>\n",
              "      <td>-0.405801</td>\n",
              "      <td>0.762276</td>\n",
              "      <td>0.848648</td>\n",
              "      <td>-0.732251</td>\n",
              "      <td>0.771116</td>\n",
              "      <td>-0.123152</td>\n",
              "      <td>0.693418</td>\n",
              "      <td>0.110256</td>\n",
              "      <td>0.740863</td>\n",
              "      <td>0.752602</td>\n",
              "      <td>0.708973</td>\n",
              "      <td>-0.343652</td>\n",
              "      <td>-0.371492</td>\n",
              "      <td>-0.021646</td>\n",
              "      <td>0.004890</td>\n",
              "      <td>0.054020</td>\n",
              "      <td>0.028859</td>\n",
              "      <td>-0.106352</td>\n",
              "      <td>-0.044553</td>\n",
              "      <td>-0.034516</td>\n",
              "      <td>0.069495</td>\n",
              "    </tr>\n",
              "    <tr>\n",
              "      <th>V17</th>\n",
              "      <td>-0.572966</td>\n",
              "      <td>0.281170</td>\n",
              "      <td>-0.023080</td>\n",
              "      <td>0.703944</td>\n",
              "      <td>-0.663331</td>\n",
              "      <td>0.752602</td>\n",
              "      <td>-0.746001</td>\n",
              "      <td>0.743005</td>\n",
              "      <td>0.467646</td>\n",
              "      <td>0.816122</td>\n",
              "      <td>-0.367967</td>\n",
              "      <td>0.796417</td>\n",
              "      <td>0.877849</td>\n",
              "      <td>-0.786909</td>\n",
              "      <td>0.874474</td>\n",
              "      <td>-0.173032</td>\n",
              "      <td>0.757630</td>\n",
              "      <td>0.006937</td>\n",
              "      <td>0.952663</td>\n",
              "      <td>1.000000</td>\n",
              "      <td>0.936872</td>\n",
              "      <td>-0.617146</td>\n",
              "      <td>-0.217745</td>\n",
              "      <td>-0.166489</td>\n",
              "      <td>-0.107960</td>\n",
              "      <td>0.055777</td>\n",
              "      <td>-0.038784</td>\n",
              "      <td>0.056387</td>\n",
              "      <td>-0.080570</td>\n",
              "      <td>-0.070402</td>\n",
              "      <td>0.063209</td>\n",
              "    </tr>\n",
              "    <tr>\n",
              "      <th>V7</th>\n",
              "      <td>-0.501688</td>\n",
              "      <td>0.271191</td>\n",
              "      <td>0.095740</td>\n",
              "      <td>0.874307</td>\n",
              "      <td>-0.823643</td>\n",
              "      <td>0.891713</td>\n",
              "      <td>-0.744206</td>\n",
              "      <td>0.839921</td>\n",
              "      <td>0.416982</td>\n",
              "      <td>1.000000</td>\n",
              "      <td>-0.212901</td>\n",
              "      <td>0.778905</td>\n",
              "      <td>0.875729</td>\n",
              "      <td>-0.690411</td>\n",
              "      <td>0.762233</td>\n",
              "      <td>-0.120729</td>\n",
              "      <td>0.612603</td>\n",
              "      <td>0.127886</td>\n",
              "      <td>0.785542</td>\n",
              "      <td>0.816122</td>\n",
              "      <td>0.793027</td>\n",
              "      <td>-0.415836</td>\n",
              "      <td>-0.397969</td>\n",
              "      <td>0.092277</td>\n",
              "      <td>-0.123530</td>\n",
              "      <td>0.047860</td>\n",
              "      <td>-0.018883</td>\n",
              "      <td>0.029105</td>\n",
              "      <td>-0.022474</td>\n",
              "      <td>0.086015</td>\n",
              "      <td>0.134208</td>\n",
              "    </tr>\n",
              "    <tr>\n",
              "      <th>V18</th>\n",
              "      <td>-0.473999</td>\n",
              "      <td>0.310043</td>\n",
              "      <td>-0.018139</td>\n",
              "      <td>0.691791</td>\n",
              "      <td>-0.628240</td>\n",
              "      <td>0.708973</td>\n",
              "      <td>-0.672462</td>\n",
              "      <td>0.738450</td>\n",
              "      <td>0.408785</td>\n",
              "      <td>0.793027</td>\n",
              "      <td>-0.349771</td>\n",
              "      <td>0.743066</td>\n",
              "      <td>0.817614</td>\n",
              "      <td>-0.693010</td>\n",
              "      <td>0.796443</td>\n",
              "      <td>-0.177412</td>\n",
              "      <td>0.651896</td>\n",
              "      <td>-0.006708</td>\n",
              "      <td>0.902480</td>\n",
              "      <td>0.936872</td>\n",
              "      <td>1.000000</td>\n",
              "      <td>-0.584987</td>\n",
              "      <td>-0.188628</td>\n",
              "      <td>-0.126512</td>\n",
              "      <td>-0.108556</td>\n",
              "      <td>0.072391</td>\n",
              "      <td>-0.063224</td>\n",
              "      <td>0.075604</td>\n",
              "      <td>-0.060133</td>\n",
              "      <td>-0.024882</td>\n",
              "      <td>0.105028</td>\n",
              "    </tr>\n",
              "    <tr>\n",
              "      <th>V6</th>\n",
              "      <td>-0.464989</td>\n",
              "      <td>0.138768</td>\n",
              "      <td>0.163674</td>\n",
              "      <td>0.425445</td>\n",
              "      <td>-0.413398</td>\n",
              "      <td>0.542929</td>\n",
              "      <td>-0.491637</td>\n",
              "      <td>0.365445</td>\n",
              "      <td>1.000000</td>\n",
              "      <td>0.416982</td>\n",
              "      <td>-0.508386</td>\n",
              "      <td>0.434763</td>\n",
              "      <td>0.501954</td>\n",
              "      <td>-0.537800</td>\n",
              "      <td>0.536734</td>\n",
              "      <td>-0.070671</td>\n",
              "      <td>0.579104</td>\n",
              "      <td>-0.025400</td>\n",
              "      <td>0.482987</td>\n",
              "      <td>0.467646</td>\n",
              "      <td>0.408785</td>\n",
              "      <td>-0.215873</td>\n",
              "      <td>-0.116165</td>\n",
              "      <td>-0.209345</td>\n",
              "      <td>0.172894</td>\n",
              "      <td>0.233857</td>\n",
              "      <td>0.016661</td>\n",
              "      <td>-0.158916</td>\n",
              "      <td>-0.056717</td>\n",
              "      <td>-0.215668</td>\n",
              "      <td>-0.083841</td>\n",
              "    </tr>\n",
              "    <tr>\n",
              "      <th>V1</th>\n",
              "      <td>-0.455817</td>\n",
              "      <td>0.280605</td>\n",
              "      <td>-0.066244</td>\n",
              "      <td>1.000000</td>\n",
              "      <td>-0.780731</td>\n",
              "      <td>0.867165</td>\n",
              "      <td>-0.623378</td>\n",
              "      <td>0.858954</td>\n",
              "      <td>0.425445</td>\n",
              "      <td>0.874307</td>\n",
              "      <td>-0.380392</td>\n",
              "      <td>0.660701</td>\n",
              "      <td>0.735772</td>\n",
              "      <td>-0.554638</td>\n",
              "      <td>0.608448</td>\n",
              "      <td>-0.115885</td>\n",
              "      <td>0.487877</td>\n",
              "      <td>0.071699</td>\n",
              "      <td>0.655014</td>\n",
              "      <td>0.703944</td>\n",
              "      <td>0.691791</td>\n",
              "      <td>-0.349922</td>\n",
              "      <td>-0.318696</td>\n",
              "      <td>0.002343</td>\n",
              "      <td>0.009997</td>\n",
              "      <td>0.072122</td>\n",
              "      <td>-0.051744</td>\n",
              "      <td>-0.110613</td>\n",
              "      <td>0.028699</td>\n",
              "      <td>0.042649</td>\n",
              "      <td>0.146288</td>\n",
              "    </tr>\n",
              "    <tr>\n",
              "      <th>V5</th>\n",
              "      <td>-0.369457</td>\n",
              "      <td>0.317991</td>\n",
              "      <td>-0.130636</td>\n",
              "      <td>0.858954</td>\n",
              "      <td>-0.783840</td>\n",
              "      <td>0.835704</td>\n",
              "      <td>-0.574100</td>\n",
              "      <td>1.000000</td>\n",
              "      <td>0.365445</td>\n",
              "      <td>0.839921</td>\n",
              "      <td>-0.449559</td>\n",
              "      <td>0.645043</td>\n",
              "      <td>0.726420</td>\n",
              "      <td>-0.524246</td>\n",
              "      <td>0.598276</td>\n",
              "      <td>-0.175360</td>\n",
              "      <td>0.449488</td>\n",
              "      <td>0.037915</td>\n",
              "      <td>0.681788</td>\n",
              "      <td>0.743005</td>\n",
              "      <td>0.738450</td>\n",
              "      <td>-0.425773</td>\n",
              "      <td>-0.315297</td>\n",
              "      <td>-0.006903</td>\n",
              "      <td>-0.011539</td>\n",
              "      <td>-0.015321</td>\n",
              "      <td>-0.112989</td>\n",
              "      <td>-0.114880</td>\n",
              "      <td>0.030063</td>\n",
              "      <td>0.058413</td>\n",
              "      <td>0.127771</td>\n",
              "    </tr>\n",
              "    <tr>\n",
              "      <th>Time</th>\n",
              "      <td>-0.140058</td>\n",
              "      <td>1.000000</td>\n",
              "      <td>0.017518</td>\n",
              "      <td>0.280605</td>\n",
              "      <td>-0.244993</td>\n",
              "      <td>0.169567</td>\n",
              "      <td>-0.229021</td>\n",
              "      <td>0.317991</td>\n",
              "      <td>0.138768</td>\n",
              "      <td>0.271191</td>\n",
              "      <td>-0.218836</td>\n",
              "      <td>0.189741</td>\n",
              "      <td>0.262543</td>\n",
              "      <td>-0.339919</td>\n",
              "      <td>0.294843</td>\n",
              "      <td>-0.154643</td>\n",
              "      <td>0.195020</td>\n",
              "      <td>-0.177010</td>\n",
              "      <td>0.279887</td>\n",
              "      <td>0.281170</td>\n",
              "      <td>0.310043</td>\n",
              "      <td>-0.115158</td>\n",
              "      <td>-0.078445</td>\n",
              "      <td>-0.064130</td>\n",
              "      <td>0.144028</td>\n",
              "      <td>0.084515</td>\n",
              "      <td>0.013388</td>\n",
              "      <td>-0.207694</td>\n",
              "      <td>-0.052781</td>\n",
              "      <td>-0.171803</td>\n",
              "      <td>-0.008760</td>\n",
              "    </tr>\n",
              "    <tr>\n",
              "      <th>V24</th>\n",
              "      <td>-0.089803</td>\n",
              "      <td>0.013388</td>\n",
              "      <td>0.029017</td>\n",
              "      <td>-0.051744</td>\n",
              "      <td>0.001123</td>\n",
              "      <td>0.028859</td>\n",
              "      <td>-0.088404</td>\n",
              "      <td>-0.112989</td>\n",
              "      <td>0.016661</td>\n",
              "      <td>-0.018883</td>\n",
              "      <td>0.061875</td>\n",
              "      <td>0.028038</td>\n",
              "      <td>0.037051</td>\n",
              "      <td>-0.135667</td>\n",
              "      <td>0.077025</td>\n",
              "      <td>0.037508</td>\n",
              "      <td>0.136781</td>\n",
              "      <td>0.038564</td>\n",
              "      <td>-0.005020</td>\n",
              "      <td>-0.038784</td>\n",
              "      <td>-0.063224</td>\n",
              "      <td>0.091811</td>\n",
              "      <td>-0.059391</td>\n",
              "      <td>0.015087</td>\n",
              "      <td>-0.000360</td>\n",
              "      <td>0.010356</td>\n",
              "      <td>1.000000</td>\n",
              "      <td>-0.043435</td>\n",
              "      <td>-0.091044</td>\n",
              "      <td>-0.177748</td>\n",
              "      <td>-0.019762</td>\n",
              "    </tr>\n",
              "    <tr>\n",
              "      <th>V23</th>\n",
              "      <td>-0.074682</td>\n",
              "      <td>0.084515</td>\n",
              "      <td>-0.148291</td>\n",
              "      <td>0.072122</td>\n",
              "      <td>0.021696</td>\n",
              "      <td>0.054020</td>\n",
              "      <td>-0.034961</td>\n",
              "      <td>-0.015321</td>\n",
              "      <td>0.233857</td>\n",
              "      <td>0.047860</td>\n",
              "      <td>-0.265142</td>\n",
              "      <td>0.000837</td>\n",
              "      <td>0.015298</td>\n",
              "      <td>-0.071531</td>\n",
              "      <td>0.043104</td>\n",
              "      <td>-0.038621</td>\n",
              "      <td>0.057319</td>\n",
              "      <td>-0.036439</td>\n",
              "      <td>0.053970</td>\n",
              "      <td>0.055777</td>\n",
              "      <td>0.072391</td>\n",
              "      <td>0.000550</td>\n",
              "      <td>0.144270</td>\n",
              "      <td>-0.083003</td>\n",
              "      <td>0.162550</td>\n",
              "      <td>1.000000</td>\n",
              "      <td>0.010356</td>\n",
              "      <td>0.061760</td>\n",
              "      <td>0.025339</td>\n",
              "      <td>-0.222542</td>\n",
              "      <td>0.049842</td>\n",
              "    </tr>\n",
              "    <tr>\n",
              "      <th>V13</th>\n",
              "      <td>-0.052596</td>\n",
              "      <td>-0.154643</td>\n",
              "      <td>-0.019825</td>\n",
              "      <td>-0.115885</td>\n",
              "      <td>0.132114</td>\n",
              "      <td>-0.123152</td>\n",
              "      <td>0.085795</td>\n",
              "      <td>-0.175360</td>\n",
              "      <td>-0.070671</td>\n",
              "      <td>-0.120729</td>\n",
              "      <td>0.203875</td>\n",
              "      <td>-0.093916</td>\n",
              "      <td>-0.108561</td>\n",
              "      <td>0.103356</td>\n",
              "      <td>-0.128189</td>\n",
              "      <td>1.000000</td>\n",
              "      <td>-0.056518</td>\n",
              "      <td>-0.041656</td>\n",
              "      <td>-0.157276</td>\n",
              "      <td>-0.173032</td>\n",
              "      <td>-0.177412</td>\n",
              "      <td>0.147689</td>\n",
              "      <td>-0.007680</td>\n",
              "      <td>0.078272</td>\n",
              "      <td>-0.028730</td>\n",
              "      <td>-0.038621</td>\n",
              "      <td>0.037508</td>\n",
              "      <td>0.010427</td>\n",
              "      <td>0.039553</td>\n",
              "      <td>0.007370</td>\n",
              "      <td>-0.090071</td>\n",
              "    </tr>\n",
              "    <tr>\n",
              "      <th>V15</th>\n",
              "      <td>-0.021426</td>\n",
              "      <td>-0.177010</td>\n",
              "      <td>0.047830</td>\n",
              "      <td>0.071699</td>\n",
              "      <td>-0.125327</td>\n",
              "      <td>0.110256</td>\n",
              "      <td>-0.099271</td>\n",
              "      <td>0.037915</td>\n",
              "      <td>-0.025400</td>\n",
              "      <td>0.127886</td>\n",
              "      <td>0.141338</td>\n",
              "      <td>0.064994</td>\n",
              "      <td>0.104726</td>\n",
              "      <td>-0.061942</td>\n",
              "      <td>0.074931</td>\n",
              "      <td>-0.041656</td>\n",
              "      <td>0.018134</td>\n",
              "      <td>1.000000</td>\n",
              "      <td>-0.007877</td>\n",
              "      <td>0.006937</td>\n",
              "      <td>-0.006708</td>\n",
              "      <td>0.201458</td>\n",
              "      <td>-0.131157</td>\n",
              "      <td>0.149002</td>\n",
              "      <td>-0.056339</td>\n",
              "      <td>-0.036439</td>\n",
              "      <td>0.038564</td>\n",
              "      <td>-0.001969</td>\n",
              "      <td>0.041853</td>\n",
              "      <td>0.142718</td>\n",
              "      <td>0.062319</td>\n",
              "    </tr>\n",
              "    <tr>\n",
              "      <th>V22</th>\n",
              "      <td>0.018180</td>\n",
              "      <td>0.144028</td>\n",
              "      <td>-0.033554</td>\n",
              "      <td>0.009997</td>\n",
              "      <td>-0.001949</td>\n",
              "      <td>0.004890</td>\n",
              "      <td>0.100062</td>\n",
              "      <td>-0.011539</td>\n",
              "      <td>0.172894</td>\n",
              "      <td>-0.123530</td>\n",
              "      <td>-0.306777</td>\n",
              "      <td>-0.161087</td>\n",
              "      <td>-0.152105</td>\n",
              "      <td>0.042006</td>\n",
              "      <td>-0.095422</td>\n",
              "      <td>-0.028730</td>\n",
              "      <td>0.011799</td>\n",
              "      <td>-0.056339</td>\n",
              "      <td>-0.116634</td>\n",
              "      <td>-0.107960</td>\n",
              "      <td>-0.108556</td>\n",
              "      <td>0.136592</td>\n",
              "      <td>0.254061</td>\n",
              "      <td>-0.508456</td>\n",
              "      <td>1.000000</td>\n",
              "      <td>0.162550</td>\n",
              "      <td>-0.000360</td>\n",
              "      <td>-0.263612</td>\n",
              "      <td>0.043816</td>\n",
              "      <td>-0.273221</td>\n",
              "      <td>-0.175961</td>\n",
              "    </tr>\n",
              "    <tr>\n",
              "      <th>V25</th>\n",
              "      <td>0.027129</td>\n",
              "      <td>-0.207694</td>\n",
              "      <td>-0.099873</td>\n",
              "      <td>-0.110613</td>\n",
              "      <td>0.129101</td>\n",
              "      <td>-0.106352</td>\n",
              "      <td>-0.024475</td>\n",
              "      <td>-0.114880</td>\n",
              "      <td>-0.158916</td>\n",
              "      <td>0.029105</td>\n",
              "      <td>0.314122</td>\n",
              "      <td>-0.002300</td>\n",
              "      <td>0.024099</td>\n",
              "      <td>-0.002986</td>\n",
              "      <td>0.052366</td>\n",
              "      <td>0.010427</td>\n",
              "      <td>-0.040617</td>\n",
              "      <td>-0.001969</td>\n",
              "      <td>0.080718</td>\n",
              "      <td>0.056387</td>\n",
              "      <td>0.075604</td>\n",
              "      <td>-0.163250</td>\n",
              "      <td>0.053796</td>\n",
              "      <td>0.150039</td>\n",
              "      <td>-0.263612</td>\n",
              "      <td>0.061760</td>\n",
              "      <td>-0.043435</td>\n",
              "      <td>1.000000</td>\n",
              "      <td>0.041459</td>\n",
              "      <td>0.187062</td>\n",
              "      <td>0.161478</td>\n",
              "    </tr>\n",
              "    <tr>\n",
              "      <th>V26</th>\n",
              "      <td>0.062148</td>\n",
              "      <td>-0.052781</td>\n",
              "      <td>-0.048356</td>\n",
              "      <td>0.028699</td>\n",
              "      <td>0.031082</td>\n",
              "      <td>-0.044553</td>\n",
              "      <td>0.146087</td>\n",
              "      <td>0.030063</td>\n",
              "      <td>-0.056717</td>\n",
              "      <td>-0.022474</td>\n",
              "      <td>0.028907</td>\n",
              "      <td>-0.145492</td>\n",
              "      <td>-0.075850</td>\n",
              "      <td>0.163587</td>\n",
              "      <td>-0.138885</td>\n",
              "      <td>0.039553</td>\n",
              "      <td>-0.176512</td>\n",
              "      <td>0.041853</td>\n",
              "      <td>-0.096190</td>\n",
              "      <td>-0.080570</td>\n",
              "      <td>-0.060133</td>\n",
              "      <td>0.060249</td>\n",
              "      <td>0.049049</td>\n",
              "      <td>0.045410</td>\n",
              "      <td>0.043816</td>\n",
              "      <td>0.025339</td>\n",
              "      <td>-0.091044</td>\n",
              "      <td>0.041459</td>\n",
              "      <td>1.000000</td>\n",
              "      <td>0.142820</td>\n",
              "      <td>0.014480</td>\n",
              "    </tr>\n",
              "    <tr>\n",
              "      <th>Amount</th>\n",
              "      <td>0.078284</td>\n",
              "      <td>0.017518</td>\n",
              "      <td>1.000000</td>\n",
              "      <td>-0.066244</td>\n",
              "      <td>-0.231863</td>\n",
              "      <td>-0.029493</td>\n",
              "      <td>0.017732</td>\n",
              "      <td>-0.130636</td>\n",
              "      <td>0.163674</td>\n",
              "      <td>0.095740</td>\n",
              "      <td>-0.001336</td>\n",
              "      <td>0.002685</td>\n",
              "      <td>-0.008089</td>\n",
              "      <td>-0.023506</td>\n",
              "      <td>0.025111</td>\n",
              "      <td>-0.019825</td>\n",
              "      <td>0.034042</td>\n",
              "      <td>0.047830</td>\n",
              "      <td>-0.020010</td>\n",
              "      <td>-0.023080</td>\n",
              "      <td>-0.018139</td>\n",
              "      <td>0.047255</td>\n",
              "      <td>0.221568</td>\n",
              "      <td>0.062563</td>\n",
              "      <td>-0.033554</td>\n",
              "      <td>-0.148291</td>\n",
              "      <td>0.029017</td>\n",
              "      <td>-0.099873</td>\n",
              "      <td>-0.048356</td>\n",
              "      <td>0.057267</td>\n",
              "      <td>-0.087665</td>\n",
              "    </tr>\n",
              "    <tr>\n",
              "      <th>V28</th>\n",
              "      <td>0.108920</td>\n",
              "      <td>-0.008760</td>\n",
              "      <td>-0.087665</td>\n",
              "      <td>0.146288</td>\n",
              "      <td>0.073154</td>\n",
              "      <td>0.069495</td>\n",
              "      <td>-0.043739</td>\n",
              "      <td>0.127771</td>\n",
              "      <td>-0.083841</td>\n",
              "      <td>0.134208</td>\n",
              "      <td>0.051355</td>\n",
              "      <td>0.105099</td>\n",
              "      <td>0.093594</td>\n",
              "      <td>0.040085</td>\n",
              "      <td>-0.019834</td>\n",
              "      <td>-0.090071</td>\n",
              "      <td>-0.124110</td>\n",
              "      <td>0.062319</td>\n",
              "      <td>0.019460</td>\n",
              "      <td>0.063209</td>\n",
              "      <td>0.105028</td>\n",
              "      <td>-0.072052</td>\n",
              "      <td>0.083573</td>\n",
              "      <td>0.255657</td>\n",
              "      <td>-0.175961</td>\n",
              "      <td>0.049842</td>\n",
              "      <td>-0.019762</td>\n",
              "      <td>0.161478</td>\n",
              "      <td>0.014480</td>\n",
              "      <td>0.161361</td>\n",
              "      <td>1.000000</td>\n",
              "    </tr>\n",
              "    <tr>\n",
              "      <th>V27</th>\n",
              "      <td>0.139037</td>\n",
              "      <td>-0.171803</td>\n",
              "      <td>0.057267</td>\n",
              "      <td>0.042649</td>\n",
              "      <td>-0.051885</td>\n",
              "      <td>-0.034516</td>\n",
              "      <td>0.064786</td>\n",
              "      <td>0.058413</td>\n",
              "      <td>-0.215668</td>\n",
              "      <td>0.086015</td>\n",
              "      <td>0.358176</td>\n",
              "      <td>-0.013603</td>\n",
              "      <td>-0.000228</td>\n",
              "      <td>0.214910</td>\n",
              "      <td>-0.085253</td>\n",
              "      <td>0.007370</td>\n",
              "      <td>-0.220064</td>\n",
              "      <td>0.142718</td>\n",
              "      <td>-0.088323</td>\n",
              "      <td>-0.070402</td>\n",
              "      <td>-0.024882</td>\n",
              "      <td>0.065067</td>\n",
              "      <td>-0.036722</td>\n",
              "      <td>0.351094</td>\n",
              "      <td>-0.273221</td>\n",
              "      <td>-0.222542</td>\n",
              "      <td>-0.177748</td>\n",
              "      <td>0.187062</td>\n",
              "      <td>0.142820</td>\n",
              "      <td>1.000000</td>\n",
              "      <td>0.161361</td>\n",
              "    </tr>\n",
              "    <tr>\n",
              "      <th>V8</th>\n",
              "      <td>0.150546</td>\n",
              "      <td>-0.218836</td>\n",
              "      <td>-0.001336</td>\n",
              "      <td>-0.380392</td>\n",
              "      <td>0.280371</td>\n",
              "      <td>-0.405801</td>\n",
              "      <td>0.213051</td>\n",
              "      <td>-0.449559</td>\n",
              "      <td>-0.508386</td>\n",
              "      <td>-0.212901</td>\n",
              "      <td>1.000000</td>\n",
              "      <td>-0.212300</td>\n",
              "      <td>-0.216353</td>\n",
              "      <td>0.274165</td>\n",
              "      <td>-0.255808</td>\n",
              "      <td>0.203875</td>\n",
              "      <td>-0.281957</td>\n",
              "      <td>0.141338</td>\n",
              "      <td>-0.324550</td>\n",
              "      <td>-0.367967</td>\n",
              "      <td>-0.349771</td>\n",
              "      <td>0.257722</td>\n",
              "      <td>-0.064702</td>\n",
              "      <td>0.337674</td>\n",
              "      <td>-0.306777</td>\n",
              "      <td>-0.265142</td>\n",
              "      <td>0.061875</td>\n",
              "      <td>0.314122</td>\n",
              "      <td>0.028907</td>\n",
              "      <td>0.358176</td>\n",
              "      <td>0.051355</td>\n",
              "    </tr>\n",
              "    <tr>\n",
              "      <th>V21</th>\n",
              "      <td>0.179674</td>\n",
              "      <td>-0.064130</td>\n",
              "      <td>0.062563</td>\n",
              "      <td>0.002343</td>\n",
              "      <td>-0.007170</td>\n",
              "      <td>-0.021646</td>\n",
              "      <td>0.031983</td>\n",
              "      <td>-0.006903</td>\n",
              "      <td>-0.209345</td>\n",
              "      <td>0.092277</td>\n",
              "      <td>0.337674</td>\n",
              "      <td>0.066592</td>\n",
              "      <td>0.019922</td>\n",
              "      <td>0.169633</td>\n",
              "      <td>-0.140609</td>\n",
              "      <td>0.078272</td>\n",
              "      <td>-0.250197</td>\n",
              "      <td>0.149002</td>\n",
              "      <td>-0.188382</td>\n",
              "      <td>-0.166489</td>\n",
              "      <td>-0.126512</td>\n",
              "      <td>0.179821</td>\n",
              "      <td>-0.418964</td>\n",
              "      <td>1.000000</td>\n",
              "      <td>-0.508456</td>\n",
              "      <td>-0.083003</td>\n",
              "      <td>0.015087</td>\n",
              "      <td>0.150039</td>\n",
              "      <td>0.045410</td>\n",
              "      <td>0.351094</td>\n",
              "      <td>0.255657</td>\n",
              "    </tr>\n",
              "    <tr>\n",
              "      <th>V20</th>\n",
              "      <td>0.206480</td>\n",
              "      <td>-0.078445</td>\n",
              "      <td>0.221568</td>\n",
              "      <td>-0.318696</td>\n",
              "      <td>0.328671</td>\n",
              "      <td>-0.371492</td>\n",
              "      <td>0.320526</td>\n",
              "      <td>-0.315297</td>\n",
              "      <td>-0.116165</td>\n",
              "      <td>-0.397969</td>\n",
              "      <td>-0.064702</td>\n",
              "      <td>-0.357831</td>\n",
              "      <td>-0.379269</td>\n",
              "      <td>0.247964</td>\n",
              "      <td>-0.248885</td>\n",
              "      <td>-0.007680</td>\n",
              "      <td>-0.195935</td>\n",
              "      <td>-0.131157</td>\n",
              "      <td>-0.214056</td>\n",
              "      <td>-0.217745</td>\n",
              "      <td>-0.188628</td>\n",
              "      <td>0.083471</td>\n",
              "      <td>1.000000</td>\n",
              "      <td>-0.418964</td>\n",
              "      <td>0.254061</td>\n",
              "      <td>0.144270</td>\n",
              "      <td>-0.059391</td>\n",
              "      <td>0.053796</td>\n",
              "      <td>0.049049</td>\n",
              "      <td>-0.036722</td>\n",
              "      <td>0.083573</td>\n",
              "    </tr>\n",
              "    <tr>\n",
              "      <th>V19</th>\n",
              "      <td>0.279773</td>\n",
              "      <td>-0.115158</td>\n",
              "      <td>0.047255</td>\n",
              "      <td>-0.349922</td>\n",
              "      <td>0.267665</td>\n",
              "      <td>-0.343652</td>\n",
              "      <td>0.351033</td>\n",
              "      <td>-0.425773</td>\n",
              "      <td>-0.215873</td>\n",
              "      <td>-0.415836</td>\n",
              "      <td>0.257722</td>\n",
              "      <td>-0.400167</td>\n",
              "      <td>-0.454128</td>\n",
              "      <td>0.405329</td>\n",
              "      <td>-0.454876</td>\n",
              "      <td>0.147689</td>\n",
              "      <td>-0.386695</td>\n",
              "      <td>0.201458</td>\n",
              "      <td>-0.625435</td>\n",
              "      <td>-0.617146</td>\n",
              "      <td>-0.584987</td>\n",
              "      <td>1.000000</td>\n",
              "      <td>0.083471</td>\n",
              "      <td>0.179821</td>\n",
              "      <td>0.136592</td>\n",
              "      <td>0.000550</td>\n",
              "      <td>0.091811</td>\n",
              "      <td>-0.163250</td>\n",
              "      <td>0.060249</td>\n",
              "      <td>0.065067</td>\n",
              "      <td>-0.072052</td>\n",
              "    </tr>\n",
              "    <tr>\n",
              "      <th>V2</th>\n",
              "      <td>0.514655</td>\n",
              "      <td>-0.244993</td>\n",
              "      <td>-0.231863</td>\n",
              "      <td>-0.780731</td>\n",
              "      <td>1.000000</td>\n",
              "      <td>-0.859314</td>\n",
              "      <td>0.704031</td>\n",
              "      <td>-0.783840</td>\n",
              "      <td>-0.413398</td>\n",
              "      <td>-0.823643</td>\n",
              "      <td>0.280371</td>\n",
              "      <td>-0.705684</td>\n",
              "      <td>-0.772014</td>\n",
              "      <td>0.642974</td>\n",
              "      <td>-0.693507</td>\n",
              "      <td>0.132114</td>\n",
              "      <td>-0.609388</td>\n",
              "      <td>-0.125327</td>\n",
              "      <td>-0.650242</td>\n",
              "      <td>-0.663331</td>\n",
              "      <td>-0.628240</td>\n",
              "      <td>0.267665</td>\n",
              "      <td>0.328671</td>\n",
              "      <td>-0.007170</td>\n",
              "      <td>-0.001949</td>\n",
              "      <td>0.021696</td>\n",
              "      <td>0.001123</td>\n",
              "      <td>0.129101</td>\n",
              "      <td>0.031082</td>\n",
              "      <td>-0.051885</td>\n",
              "      <td>0.073154</td>\n",
              "    </tr>\n",
              "    <tr>\n",
              "      <th>V11</th>\n",
              "      <td>0.700882</td>\n",
              "      <td>-0.339919</td>\n",
              "      <td>-0.023506</td>\n",
              "      <td>-0.554638</td>\n",
              "      <td>0.642974</td>\n",
              "      <td>-0.732251</td>\n",
              "      <td>0.820029</td>\n",
              "      <td>-0.524246</td>\n",
              "      <td>-0.537800</td>\n",
              "      <td>-0.690411</td>\n",
              "      <td>0.274165</td>\n",
              "      <td>-0.735684</td>\n",
              "      <td>-0.839544</td>\n",
              "      <td>1.000000</td>\n",
              "      <td>-0.907751</td>\n",
              "      <td>0.103356</td>\n",
              "      <td>-0.893802</td>\n",
              "      <td>-0.061942</td>\n",
              "      <td>-0.822214</td>\n",
              "      <td>-0.786909</td>\n",
              "      <td>-0.693010</td>\n",
              "      <td>0.405329</td>\n",
              "      <td>0.247964</td>\n",
              "      <td>0.169633</td>\n",
              "      <td>0.042006</td>\n",
              "      <td>-0.071531</td>\n",
              "      <td>-0.135667</td>\n",
              "      <td>-0.002986</td>\n",
              "      <td>0.163587</td>\n",
              "      <td>0.214910</td>\n",
              "      <td>0.040085</td>\n",
              "    </tr>\n",
              "    <tr>\n",
              "      <th>V4</th>\n",
              "      <td>0.731821</td>\n",
              "      <td>-0.229021</td>\n",
              "      <td>0.017732</td>\n",
              "      <td>-0.623378</td>\n",
              "      <td>0.704031</td>\n",
              "      <td>-0.780373</td>\n",
              "      <td>1.000000</td>\n",
              "      <td>-0.574100</td>\n",
              "      <td>-0.491637</td>\n",
              "      <td>-0.744206</td>\n",
              "      <td>0.213051</td>\n",
              "      <td>-0.800001</td>\n",
              "      <td>-0.829729</td>\n",
              "      <td>0.820029</td>\n",
              "      <td>-0.857716</td>\n",
              "      <td>0.085795</td>\n",
              "      <td>-0.834787</td>\n",
              "      <td>-0.099271</td>\n",
              "      <td>-0.767323</td>\n",
              "      <td>-0.746001</td>\n",
              "      <td>-0.672462</td>\n",
              "      <td>0.351033</td>\n",
              "      <td>0.320526</td>\n",
              "      <td>0.031983</td>\n",
              "      <td>0.100062</td>\n",
              "      <td>-0.034961</td>\n",
              "      <td>-0.088404</td>\n",
              "      <td>-0.024475</td>\n",
              "      <td>0.146087</td>\n",
              "      <td>0.064786</td>\n",
              "      <td>-0.043739</td>\n",
              "    </tr>\n",
              "    <tr>\n",
              "      <th>Class</th>\n",
              "      <td>1.000000</td>\n",
              "      <td>-0.140058</td>\n",
              "      <td>0.078284</td>\n",
              "      <td>-0.455817</td>\n",
              "      <td>0.514655</td>\n",
              "      <td>-0.588310</td>\n",
              "      <td>0.731821</td>\n",
              "      <td>-0.369457</td>\n",
              "      <td>-0.464989</td>\n",
              "      <td>-0.501688</td>\n",
              "      <td>0.150546</td>\n",
              "      <td>-0.589301</td>\n",
              "      <td>-0.661351</td>\n",
              "      <td>0.700882</td>\n",
              "      <td>-0.697422</td>\n",
              "      <td>-0.052596</td>\n",
              "      <td>-0.786637</td>\n",
              "      <td>-0.021426</td>\n",
              "      <td>-0.612048</td>\n",
              "      <td>-0.572966</td>\n",
              "      <td>-0.473999</td>\n",
              "      <td>0.279773</td>\n",
              "      <td>0.206480</td>\n",
              "      <td>0.179674</td>\n",
              "      <td>0.018180</td>\n",
              "      <td>-0.074682</td>\n",
              "      <td>-0.089803</td>\n",
              "      <td>0.027129</td>\n",
              "      <td>0.062148</td>\n",
              "      <td>0.139037</td>\n",
              "      <td>0.108920</td>\n",
              "    </tr>\n",
              "  </tbody>\n",
              "</table>\n",
              "</div>"
            ],
            "text/plain": [
              "           Class      Time    Amount  ...       V26       V27       V28\n",
              "V14    -0.786637  0.195020  0.034042  ... -0.176512 -0.220064 -0.124110\n",
              "V12    -0.697422  0.294843  0.025111  ... -0.138885 -0.085253 -0.019834\n",
              "V10    -0.661351  0.262543 -0.008089  ... -0.075850 -0.000228  0.093594\n",
              "V16    -0.612048  0.279887 -0.020010  ... -0.096190 -0.088323  0.019460\n",
              "V9     -0.589301  0.189741  0.002685  ... -0.145492 -0.013603  0.105099\n",
              "V3     -0.588310  0.169567 -0.029493  ... -0.044553 -0.034516  0.069495\n",
              "V17    -0.572966  0.281170 -0.023080  ... -0.080570 -0.070402  0.063209\n",
              "V7     -0.501688  0.271191  0.095740  ... -0.022474  0.086015  0.134208\n",
              "V18    -0.473999  0.310043 -0.018139  ... -0.060133 -0.024882  0.105028\n",
              "V6     -0.464989  0.138768  0.163674  ... -0.056717 -0.215668 -0.083841\n",
              "V1     -0.455817  0.280605 -0.066244  ...  0.028699  0.042649  0.146288\n",
              "V5     -0.369457  0.317991 -0.130636  ...  0.030063  0.058413  0.127771\n",
              "Time   -0.140058  1.000000  0.017518  ... -0.052781 -0.171803 -0.008760\n",
              "V24    -0.089803  0.013388  0.029017  ... -0.091044 -0.177748 -0.019762\n",
              "V23    -0.074682  0.084515 -0.148291  ...  0.025339 -0.222542  0.049842\n",
              "V13    -0.052596 -0.154643 -0.019825  ...  0.039553  0.007370 -0.090071\n",
              "V15    -0.021426 -0.177010  0.047830  ...  0.041853  0.142718  0.062319\n",
              "V22     0.018180  0.144028 -0.033554  ...  0.043816 -0.273221 -0.175961\n",
              "V25     0.027129 -0.207694 -0.099873  ...  0.041459  0.187062  0.161478\n",
              "V26     0.062148 -0.052781 -0.048356  ...  1.000000  0.142820  0.014480\n",
              "Amount  0.078284  0.017518  1.000000  ... -0.048356  0.057267 -0.087665\n",
              "V28     0.108920 -0.008760 -0.087665  ...  0.014480  0.161361  1.000000\n",
              "V27     0.139037 -0.171803  0.057267  ...  0.142820  1.000000  0.161361\n",
              "V8      0.150546 -0.218836 -0.001336  ...  0.028907  0.358176  0.051355\n",
              "V21     0.179674 -0.064130  0.062563  ...  0.045410  0.351094  0.255657\n",
              "V20     0.206480 -0.078445  0.221568  ...  0.049049 -0.036722  0.083573\n",
              "V19     0.279773 -0.115158  0.047255  ...  0.060249  0.065067 -0.072052\n",
              "V2      0.514655 -0.244993 -0.231863  ...  0.031082 -0.051885  0.073154\n",
              "V11     0.700882 -0.339919 -0.023506  ...  0.163587  0.214910  0.040085\n",
              "V4      0.731821 -0.229021  0.017732  ...  0.146087  0.064786 -0.043739\n",
              "Class   1.000000 -0.140058  0.078284  ...  0.062148  0.139037  0.108920\n",
              "\n",
              "[31 rows x 31 columns]"
            ]
          },
          "metadata": {
            "tags": []
          },
          "execution_count": 14
        }
      ]
    },
    {
      "cell_type": "code",
      "metadata": {
        "colab": {
          "base_uri": "https://localhost:8080/"
        },
        "id": "aJgIXUn-y9Xk",
        "outputId": "4b938c20-0664-4e7f-d771-6e54f2a4b317"
      },
      "source": [
        "## 데이터셋 복사 ##\n",
        "train_st1 = train_st.copy()  # 원 데이터 보존\n",
        "\n",
        "## df1 V4 outlier 제거 ## -> 변화가 없;;\n",
        "train_st1 = remove_outlier(train_st1, column ='V4')\n",
        "\n",
        "## df1 V11 outlier 제거 ## -> 아웃라이어가 없...\n",
        "train_st1 = remove_outlier(train_st1, column ='V11')\n",
        "\n",
        "## df1 V9 outlier 제거 ## -> 딱히 변화 없... 오히려 떨어짐\n",
        "train_st1 = remove_outlier(train_st1, column ='V9')\n",
        "\n",
        "## df1 V3 outlier 제거 ## -> 이거도 성능이 떨어짐...ㅠㅠㅣ;;';\n",
        "train_st1 = remove_outlier(train_st1, column ='V3')\n",
        "\n",
        "x_train_st1 = train_st1.drop(['Class'], axis=1)\n",
        "y_train_st1 = train_st1['Class']"
      ],
      "execution_count": null,
      "outputs": [
        {
          "output_type": "stream",
          "text": [
            "outlier 개수 : 126\n",
            "shape :  (386782, 31)\n",
            "outlier 개수 : 0\n",
            "shape :  (386782, 31)\n",
            "outlier 개수 : 53\n",
            "shape :  (386729, 31)\n",
            "outlier 개수 : 72\n",
            "shape :  (386657, 31)\n"
          ],
          "name": "stdout"
        }
      ]
    },
    {
      "cell_type": "code",
      "metadata": {
        "colab": {
          "base_uri": "https://localhost:8080/"
        },
        "id": "_Z8Z91vR9yOn",
        "outputId": "c0ad30ac-142a-4e5f-bd5d-fcad336805da"
      },
      "source": [
        "lgbm.fit(x_train_st1,y_train_st1)\n",
        "y_pred = lgbm.predict(x_test)\n",
        "print(classification_report(y_test, y_pred))"
      ],
      "execution_count": null,
      "outputs": [
        {
          "output_type": "stream",
          "text": [
            "              precision    recall  f1-score   support\n",
            "\n",
            "           0       1.00      1.00      1.00     83158\n",
            "           1       0.86      0.88      0.87       128\n",
            "\n",
            "    accuracy                           1.00     83286\n",
            "   macro avg       0.93      0.94      0.94     83286\n",
            "weighted avg       1.00      1.00      1.00     83286\n",
            "\n"
          ],
          "name": "stdout"
        }
      ]
    },
    {
      "cell_type": "code",
      "metadata": {
        "colab": {
          "base_uri": "https://localhost:8080/",
          "height": 1000
        },
        "id": "Cjo2XQ4Ph3U-",
        "outputId": "a025bb3f-ff45-4188-dbbf-bc982d2cf78f"
      },
      "source": [
        "var = train_st.columns.values\n",
        "\n",
        "i = 0\n",
        "t0 = train_st.loc[train_st['Class'] == 0]\n",
        "t1 = train_st.loc[train_st['Class'] == 1]\n",
        "\n",
        "sns.set_style('whitegrid')\n",
        "plt.figure()\n",
        "fig, ax = plt.subplots(8,4,figsize=(16,28))\n",
        "\n",
        "for feature in var:\n",
        "    i += 1\n",
        "    plt.subplot(8,4,i)\n",
        "    sns.kdeplot(t0[feature], bw=0.5,label=\"Class = 0\")\n",
        "    sns.kdeplot(t1[feature], bw=0.5,label=\"Class = 1\")\n",
        "    plt.xlabel(feature, fontsize=12)\n",
        "    locs, labels = plt.xticks()\n",
        "    plt.tick_params(axis='both', which='major', labelsize=12)\n",
        "plt.show();"
      ],
      "execution_count": null,
      "outputs": [
        {
          "output_type": "display_data",
          "data": {
            "text/plain": [
              "<Figure size 432x288 with 0 Axes>"
            ]
          },
          "metadata": {
            "tags": []
          }
        },
        {
          "output_type": "display_data",
          "data": {
            "image/png": "[encoded data removed]",
            "text/plain": [
              "<Figure size 1152x2016 with 32 Axes>"
            ]
          },
          "metadata": {
            "tags": []
          }
        }
      ]
    },
    {
      "cell_type": "code",
      "metadata": {
        "colab": {
          "base_uri": "https://localhost:8080/",
          "height": 965
        },
        "id": "xYoWTcl9xBVC",
        "outputId": "711bf2a5-6389-4f25-ba42-210f90123031"
      },
      "source": [
        "## 다중공선성 ##\n",
        "from statsmodels.stats.outliers_influence import variance_inflation_factor\n",
        "vif = pd.DataFrame()\n",
        "vif[\"VIF Factor\"] = [variance_inflation_factor(train_st.values, i) for i in range(train_st.shape[1])]\n",
        "vif[\"features\"] = train_st.columns\n",
        "vif"
      ],
      "execution_count": null,
      "outputs": [
        {
          "output_type": "execute_result",
          "data": {
            "text/html": [
              "<div>\n",
              "<style scoped>\n",
              "    .dataframe tbody tr th:only-of-type {\n",
              "        vertical-align: middle;\n",
              "    }\n",
              "\n",
              "    .dataframe tbody tr th {\n",
              "        vertical-align: top;\n",
              "    }\n",
              "\n",
              "    .dataframe thead th {\n",
              "        text-align: right;\n",
              "    }\n",
              "</style>\n",
              "<table border=\"1\" class=\"dataframe\">\n",
              "  <thead>\n",
              "    <tr style=\"text-align: right;\">\n",
              "      <th></th>\n",
              "      <th>VIF Factor</th>\n",
              "      <th>features</th>\n",
              "    </tr>\n",
              "  </thead>\n",
              "  <tbody>\n",
              "    <tr>\n",
              "      <th>0</th>\n",
              "      <td>6.366006</td>\n",
              "      <td>Class</td>\n",
              "    </tr>\n",
              "    <tr>\n",
              "      <th>1</th>\n",
              "      <td>3.000350</td>\n",
              "      <td>Time</td>\n",
              "    </tr>\n",
              "    <tr>\n",
              "      <th>2</th>\n",
              "      <td>11.413399</td>\n",
              "      <td>Amount</td>\n",
              "    </tr>\n",
              "    <tr>\n",
              "      <th>3</th>\n",
              "      <td>12.769830</td>\n",
              "      <td>V1</td>\n",
              "    </tr>\n",
              "    <tr>\n",
              "      <th>4</th>\n",
              "      <td>24.312153</td>\n",
              "      <td>V2</td>\n",
              "    </tr>\n",
              "    <tr>\n",
              "      <th>5</th>\n",
              "      <td>23.185978</td>\n",
              "      <td>V3</td>\n",
              "    </tr>\n",
              "    <tr>\n",
              "      <th>6</th>\n",
              "      <td>11.191929</td>\n",
              "      <td>V4</td>\n",
              "    </tr>\n",
              "    <tr>\n",
              "      <th>7</th>\n",
              "      <td>27.235558</td>\n",
              "      <td>V5</td>\n",
              "    </tr>\n",
              "    <tr>\n",
              "      <th>8</th>\n",
              "      <td>3.816980</td>\n",
              "      <td>V6</td>\n",
              "    </tr>\n",
              "    <tr>\n",
              "      <th>9</th>\n",
              "      <td>61.291717</td>\n",
              "      <td>V7</td>\n",
              "    </tr>\n",
              "    <tr>\n",
              "      <th>10</th>\n",
              "      <td>5.161223</td>\n",
              "      <td>V8</td>\n",
              "    </tr>\n",
              "    <tr>\n",
              "      <th>11</th>\n",
              "      <td>6.764995</td>\n",
              "      <td>V9</td>\n",
              "    </tr>\n",
              "    <tr>\n",
              "      <th>12</th>\n",
              "      <td>27.527705</td>\n",
              "      <td>V10</td>\n",
              "    </tr>\n",
              "    <tr>\n",
              "      <th>13</th>\n",
              "      <td>12.130011</td>\n",
              "      <td>V11</td>\n",
              "    </tr>\n",
              "    <tr>\n",
              "      <th>14</th>\n",
              "      <td>25.376176</td>\n",
              "      <td>V12</td>\n",
              "    </tr>\n",
              "    <tr>\n",
              "      <th>15</th>\n",
              "      <td>1.148185</td>\n",
              "      <td>V13</td>\n",
              "    </tr>\n",
              "    <tr>\n",
              "      <th>16</th>\n",
              "      <td>23.531204</td>\n",
              "      <td>V14</td>\n",
              "    </tr>\n",
              "    <tr>\n",
              "      <th>17</th>\n",
              "      <td>1.213358</td>\n",
              "      <td>V15</td>\n",
              "    </tr>\n",
              "    <tr>\n",
              "      <th>18</th>\n",
              "      <td>23.899496</td>\n",
              "      <td>V16</td>\n",
              "    </tr>\n",
              "    <tr>\n",
              "      <th>19</th>\n",
              "      <td>30.721588</td>\n",
              "      <td>V17</td>\n",
              "    </tr>\n",
              "    <tr>\n",
              "      <th>20</th>\n",
              "      <td>12.147143</td>\n",
              "      <td>V18</td>\n",
              "    </tr>\n",
              "    <tr>\n",
              "      <th>21</th>\n",
              "      <td>2.387160</td>\n",
              "      <td>V19</td>\n",
              "    </tr>\n",
              "    <tr>\n",
              "      <th>22</th>\n",
              "      <td>3.199422</td>\n",
              "      <td>V20</td>\n",
              "    </tr>\n",
              "    <tr>\n",
              "      <th>23</th>\n",
              "      <td>2.948483</td>\n",
              "      <td>V21</td>\n",
              "    </tr>\n",
              "    <tr>\n",
              "      <th>24</th>\n",
              "      <td>1.884764</td>\n",
              "      <td>V22</td>\n",
              "    </tr>\n",
              "    <tr>\n",
              "      <th>25</th>\n",
              "      <td>2.551502</td>\n",
              "      <td>V23</td>\n",
              "    </tr>\n",
              "    <tr>\n",
              "      <th>26</th>\n",
              "      <td>1.150839</td>\n",
              "      <td>V24</td>\n",
              "    </tr>\n",
              "    <tr>\n",
              "      <th>27</th>\n",
              "      <td>1.514397</td>\n",
              "      <td>V25</td>\n",
              "    </tr>\n",
              "    <tr>\n",
              "      <th>28</th>\n",
              "      <td>1.129894</td>\n",
              "      <td>V26</td>\n",
              "    </tr>\n",
              "    <tr>\n",
              "      <th>29</th>\n",
              "      <td>1.648710</td>\n",
              "      <td>V27</td>\n",
              "    </tr>\n",
              "    <tr>\n",
              "      <th>30</th>\n",
              "      <td>1.785712</td>\n",
              "      <td>V28</td>\n",
              "    </tr>\n",
              "  </tbody>\n",
              "</table>\n",
              "</div>"
            ],
            "text/plain": [
              "    VIF Factor features\n",
              "0     6.366006    Class\n",
              "1     3.000350     Time\n",
              "2    11.413399   Amount\n",
              "3    12.769830       V1\n",
              "4    24.312153       V2\n",
              "5    23.185978       V3\n",
              "6    11.191929       V4\n",
              "7    27.235558       V5\n",
              "8     3.816980       V6\n",
              "9    61.291717       V7\n",
              "10    5.161223       V8\n",
              "11    6.764995       V9\n",
              "12   27.527705      V10\n",
              "13   12.130011      V11\n",
              "14   25.376176      V12\n",
              "15    1.148185      V13\n",
              "16   23.531204      V14\n",
              "17    1.213358      V15\n",
              "18   23.899496      V16\n",
              "19   30.721588      V17\n",
              "20   12.147143      V18\n",
              "21    2.387160      V19\n",
              "22    3.199422      V20\n",
              "23    2.948483      V21\n",
              "24    1.884764      V22\n",
              "25    2.551502      V23\n",
              "26    1.150839      V24\n",
              "27    1.514397      V25\n",
              "28    1.129894      V26\n",
              "29    1.648710      V27\n",
              "30    1.785712      V28"
            ]
          },
          "metadata": {
            "tags": []
          },
          "execution_count": 101
        }
      ]
    },
    {
      "cell_type": "markdown",
      "metadata": {
        "id": "-vqZR07IyqVB"
      },
      "source": [
        "1. VIF 계수가 높은 feature제거\n",
        "\n",
        "2. 단 유사한 feature의 경우, 둘 중 1개만 제거(FIP, kFIP의 경우)\n",
        "\n",
        "3. 제거 후 VIF계수 재출력\n",
        "\n",
        "4. (1, 2, 3)의 과정 반복\n",
        "\n",
        "5. 회귀분석 진행\n",
        "\n",
        "6. feature의 p-value점검"
      ]
    },
    {
      "cell_type": "code",
      "metadata": {
        "id": "wS3fxBNHEb5J"
      },
      "source": [
        "train_st=train_st.drop(['V7','V17','V12','V10','V14','V16','V3','V2'], axis=1)"
      ],
      "execution_count": null,
      "outputs": []
    },
    {
      "cell_type": "code",
      "metadata": {
        "colab": {
          "base_uri": "https://localhost:8080/",
          "height": 195
        },
        "id": "CXQiR8gnz7Dq",
        "outputId": "cf6026f0-de81-454d-92a7-a59e0700417a"
      },
      "source": [
        "from statsmodels.stats.outliers_influence import variance_inflation_factor\n",
        "vif = pd.DataFrame()\n",
        "vif[\"VIF Factor\"] = [variance_inflation_factor(train_st.values, i) for i in range(train_st.shape[1])]\n",
        "vif[\"features\"] = train_st.columns\n",
        "vif.sort_values(by='VIF Factor', ascending=False).head()"
      ],
      "execution_count": null,
      "outputs": [
        {
          "output_type": "execute_result",
          "data": {
            "text/html": [
              "<div>\n",
              "<style scoped>\n",
              "    .dataframe tbody tr th:only-of-type {\n",
              "        vertical-align: middle;\n",
              "    }\n",
              "\n",
              "    .dataframe tbody tr th {\n",
              "        vertical-align: top;\n",
              "    }\n",
              "\n",
              "    .dataframe thead th {\n",
              "        text-align: right;\n",
              "    }\n",
              "</style>\n",
              "<table border=\"1\" class=\"dataframe\">\n",
              "  <thead>\n",
              "    <tr style=\"text-align: right;\">\n",
              "      <th></th>\n",
              "      <th>VIF Factor</th>\n",
              "      <th>features</th>\n",
              "    </tr>\n",
              "  </thead>\n",
              "  <tbody>\n",
              "    <tr>\n",
              "      <th>4</th>\n",
              "      <td>7.807876</td>\n",
              "      <td>V4</td>\n",
              "    </tr>\n",
              "    <tr>\n",
              "      <th>9</th>\n",
              "      <td>6.893389</td>\n",
              "      <td>V11</td>\n",
              "    </tr>\n",
              "    <tr>\n",
              "      <th>5</th>\n",
              "      <td>6.819086</td>\n",
              "      <td>V5</td>\n",
              "    </tr>\n",
              "    <tr>\n",
              "      <th>8</th>\n",
              "      <td>5.742282</td>\n",
              "      <td>V9</td>\n",
              "    </tr>\n",
              "    <tr>\n",
              "      <th>3</th>\n",
              "      <td>5.672621</td>\n",
              "      <td>V1</td>\n",
              "    </tr>\n",
              "  </tbody>\n",
              "</table>\n",
              "</div>"
            ],
            "text/plain": [
              "   VIF Factor features\n",
              "4    7.807876       V4\n",
              "9    6.893389      V11\n",
              "5    6.819086       V5\n",
              "8    5.742282       V9\n",
              "3    5.672621       V1"
            ]
          },
          "metadata": {
            "tags": []
          },
          "execution_count": 49
        }
      ]
    },
    {
      "cell_type": "code",
      "metadata": {
        "colab": {
          "base_uri": "https://localhost:8080/",
          "height": 728
        },
        "id": "d-7BiDZ33-cM",
        "outputId": "ce2d89ab-466d-4edc-9024-30357cab6869"
      },
      "source": [
        "vif"
      ],
      "execution_count": null,
      "outputs": [
        {
          "output_type": "execute_result",
          "data": {
            "text/html": [
              "<div>\n",
              "<style scoped>\n",
              "    .dataframe tbody tr th:only-of-type {\n",
              "        vertical-align: middle;\n",
              "    }\n",
              "\n",
              "    .dataframe tbody tr th {\n",
              "        vertical-align: top;\n",
              "    }\n",
              "\n",
              "    .dataframe thead th {\n",
              "        text-align: right;\n",
              "    }\n",
              "</style>\n",
              "<table border=\"1\" class=\"dataframe\">\n",
              "  <thead>\n",
              "    <tr style=\"text-align: right;\">\n",
              "      <th></th>\n",
              "      <th>VIF Factor</th>\n",
              "      <th>features</th>\n",
              "    </tr>\n",
              "  </thead>\n",
              "  <tbody>\n",
              "    <tr>\n",
              "      <th>0</th>\n",
              "      <td>5.501225</td>\n",
              "      <td>Class</td>\n",
              "    </tr>\n",
              "    <tr>\n",
              "      <th>1</th>\n",
              "      <td>1.867641</td>\n",
              "      <td>Time</td>\n",
              "    </tr>\n",
              "    <tr>\n",
              "      <th>2</th>\n",
              "      <td>1.760448</td>\n",
              "      <td>Amount</td>\n",
              "    </tr>\n",
              "    <tr>\n",
              "      <th>3</th>\n",
              "      <td>5.672621</td>\n",
              "      <td>V1</td>\n",
              "    </tr>\n",
              "    <tr>\n",
              "      <th>4</th>\n",
              "      <td>7.807876</td>\n",
              "      <td>V4</td>\n",
              "    </tr>\n",
              "    <tr>\n",
              "      <th>5</th>\n",
              "      <td>6.819086</td>\n",
              "      <td>V5</td>\n",
              "    </tr>\n",
              "    <tr>\n",
              "      <th>6</th>\n",
              "      <td>2.598903</td>\n",
              "      <td>V6</td>\n",
              "    </tr>\n",
              "    <tr>\n",
              "      <th>7</th>\n",
              "      <td>2.446287</td>\n",
              "      <td>V8</td>\n",
              "    </tr>\n",
              "    <tr>\n",
              "      <th>8</th>\n",
              "      <td>5.742282</td>\n",
              "      <td>V9</td>\n",
              "    </tr>\n",
              "    <tr>\n",
              "      <th>9</th>\n",
              "      <td>6.893389</td>\n",
              "      <td>V11</td>\n",
              "    </tr>\n",
              "    <tr>\n",
              "      <th>10</th>\n",
              "      <td>1.125505</td>\n",
              "      <td>V13</td>\n",
              "    </tr>\n",
              "    <tr>\n",
              "      <th>11</th>\n",
              "      <td>1.184242</td>\n",
              "      <td>V15</td>\n",
              "    </tr>\n",
              "    <tr>\n",
              "      <th>12</th>\n",
              "      <td>5.498251</td>\n",
              "      <td>V18</td>\n",
              "    </tr>\n",
              "    <tr>\n",
              "      <th>13</th>\n",
              "      <td>1.964267</td>\n",
              "      <td>V19</td>\n",
              "    </tr>\n",
              "    <tr>\n",
              "      <th>14</th>\n",
              "      <td>2.080738</td>\n",
              "      <td>V20</td>\n",
              "    </tr>\n",
              "    <tr>\n",
              "      <th>15</th>\n",
              "      <td>2.512733</td>\n",
              "      <td>V21</td>\n",
              "    </tr>\n",
              "    <tr>\n",
              "      <th>16</th>\n",
              "      <td>1.689423</td>\n",
              "      <td>V22</td>\n",
              "    </tr>\n",
              "    <tr>\n",
              "      <th>17</th>\n",
              "      <td>1.383603</td>\n",
              "      <td>V23</td>\n",
              "    </tr>\n",
              "    <tr>\n",
              "      <th>18</th>\n",
              "      <td>1.132976</td>\n",
              "      <td>V24</td>\n",
              "    </tr>\n",
              "    <tr>\n",
              "      <th>19</th>\n",
              "      <td>1.398067</td>\n",
              "      <td>V25</td>\n",
              "    </tr>\n",
              "    <tr>\n",
              "      <th>20</th>\n",
              "      <td>1.115968</td>\n",
              "      <td>V26</td>\n",
              "    </tr>\n",
              "    <tr>\n",
              "      <th>21</th>\n",
              "      <td>1.600617</td>\n",
              "      <td>V27</td>\n",
              "    </tr>\n",
              "    <tr>\n",
              "      <th>22</th>\n",
              "      <td>1.340731</td>\n",
              "      <td>V28</td>\n",
              "    </tr>\n",
              "  </tbody>\n",
              "</table>\n",
              "</div>"
            ],
            "text/plain": [
              "    VIF Factor features\n",
              "0     5.501225    Class\n",
              "1     1.867641     Time\n",
              "2     1.760448   Amount\n",
              "3     5.672621       V1\n",
              "4     7.807876       V4\n",
              "5     6.819086       V5\n",
              "6     2.598903       V6\n",
              "7     2.446287       V8\n",
              "8     5.742282       V9\n",
              "9     6.893389      V11\n",
              "10    1.125505      V13\n",
              "11    1.184242      V15\n",
              "12    5.498251      V18\n",
              "13    1.964267      V19\n",
              "14    2.080738      V20\n",
              "15    2.512733      V21\n",
              "16    1.689423      V22\n",
              "17    1.383603      V23\n",
              "18    1.132976      V24\n",
              "19    1.398067      V25\n",
              "20    1.115968      V26\n",
              "21    1.600617      V27\n",
              "22    1.340731      V28"
            ]
          },
          "metadata": {
            "tags": []
          },
          "execution_count": 118
        }
      ]
    },
    {
      "cell_type": "code",
      "metadata": {
        "id": "xP6IDGQ9GHgS"
      },
      "source": [
        "x_train_st = train_st1.drop(['Class'], axis=1)\n",
        "y_train_st = train_st1['Class']"
      ],
      "execution_count": null,
      "outputs": []
    },
    {
      "cell_type": "code",
      "metadata": {
        "colab": {
          "base_uri": "https://localhost:8080/"
        },
        "id": "vTOMZ9ggFIqk",
        "outputId": "f14dff29-6ea4-4ed9-cc7c-aa005a0ddf61"
      },
      "source": [
        "lgbm.fit(x_train_st,y_train_st)\n",
        "y_pred = lgbm.predict(x_test)\n",
        "print(classification_report(y_test, y_pred))"
      ],
      "execution_count": null,
      "outputs": [
        {
          "output_type": "stream",
          "text": [
            "              precision    recall  f1-score   support\n",
            "\n",
            "           0       1.00      1.00      1.00     83158\n",
            "           1       0.86      0.88      0.87       128\n",
            "\n",
            "    accuracy                           1.00     83286\n",
            "   macro avg       0.93      0.94      0.94     83286\n",
            "weighted avg       1.00      1.00      1.00     83286\n",
            "\n"
          ],
          "name": "stdout"
        }
      ]
    },
    {
      "cell_type": "markdown",
      "metadata": {
        "id": "A97-_F4ZwNN2"
      },
      "source": [
        "## 04. 스케일링"
      ]
    },
    {
      "cell_type": "code",
      "metadata": {
        "id": "jVzWtP63dZB6"
      },
      "source": [
        "## 스케일링\n",
        "\n",
        "from sklearn.preprocessing import RobustScaler\n",
        "\n",
        "x_train_st = train_st1.drop(['Class'], axis=1)\n",
        "y_train_st = train_st1['Class']"
      ],
      "execution_count": null,
      "outputs": []
    },
    {
      "cell_type": "code",
      "metadata": {
        "id": "ERy9jRfaf8wh"
      },
      "source": [
        "## Amount 스케일링 ##\n",
        "pd.set_option('mode.chained_assignment',  None)\n",
        "\n",
        "# RobustScaler\n",
        "ro = RobustScaler() \n",
        "x_train_st['Amount_robust'] = ro.fit_transform(x_train_st['Amount'].values.reshape(-1,1))\n",
        "\n",
        "\n",
        "## Time 스케일링 ##\n",
        "\n",
        "# RobustScaler\n",
        "rc = RobustScaler() \n",
        "x_train_st['Time_robust'] = rc.fit_transform(x_train_st['Time'].values.reshape(-1,1))"
      ],
      "execution_count": null,
      "outputs": []
    },
    {
      "cell_type": "code",
      "metadata": {
        "id": "Z4HXx8VUgDti"
      },
      "source": [
        "## Amount, Time 삭제 ##\n",
        "x_train_st = x_train_st.reindex(columns=[ 'Amount_robust', 'Time_robust', \n",
        "                                 'V1', 'V2', 'V3', 'V4', 'V5', 'V6', 'V7', 'V8', 'V9', 'V10',\n",
        "                                 'V11', 'V12', 'V13', 'V14', 'V15', 'V16', 'V17', 'V18', 'V19', 'V20',\n",
        "                                 'V21', 'V22', 'V23', 'V24', 'V25', 'V26', 'V27', 'V28'])"
      ],
      "execution_count": null,
      "outputs": []
    },
    {
      "cell_type": "code",
      "metadata": {
        "colab": {
          "base_uri": "https://localhost:8080/"
        },
        "id": "l1Zr9RSFGAy-",
        "outputId": "e663966c-a692-45b5-e246-4026a26ee1a6"
      },
      "source": [
        "import lightgbm as lgbm\n",
        "fit_lgbm = lgbm.LGBMClassifier(bagging_fraction=0.6995196530726653, boosting_type='gbdt',\n",
        "               class_weight=None, colsample_bytree=0.8154730273989589,\n",
        "               feature_fraction=0.47637206677334143, importance_type='split',\n",
        "               lambda_l1=0.3784541644450563, lambda_l2=0.8067472771124881,\n",
        "               learning_rate=0.04311120781400105, max_depth=11,\n",
        "               min_child_samples=20, min_child_weight=30, min_split_gain=0.0,\n",
        "               n_estimators=100, n_jobs=-1, num_leaves=301, objective=None,\n",
        "               random_state=None, reg_alpha=0.0, reg_lambda=0.0, silent=True,\n",
        "               subsample=1.0, subsample_for_bin=200000, subsample_freq=0)\n",
        "fit_lgbm.fit(x_train_st,y_train_st)\n",
        "y_pred = fit_lgbm.predict(x_test)\n",
        "print(classification_report(y_test, y_pred))"
      ],
      "execution_count": null,
      "outputs": [
        {
          "output_type": "stream",
          "text": [
            "              precision    recall  f1-score   support\n",
            "\n",
            "           0       1.00      1.00      1.00     83158\n",
            "           1       0.77      0.88      0.82       128\n",
            "\n",
            "    accuracy                           1.00     83286\n",
            "   macro avg       0.88      0.94      0.91     83286\n",
            "weighted avg       1.00      1.00      1.00     83286\n",
            "\n"
          ],
          "name": "stdout"
        }
      ]
    },
    {
      "cell_type": "markdown",
      "metadata": {
        "id": "MHsWKSaS3ifG"
      },
      "source": [
        "## 05. LGBM"
      ]
    },
    {
      "cell_type": "code",
      "metadata": {
        "id": "YDLze5R1dZB9",
        "colab": {
          "base_uri": "https://localhost:8080/"
        },
        "outputId": "04edc56f-5ed9-4d17-d355-c7bea3296232"
      },
      "source": [
        "pip install bayesian-optimization"
      ],
      "execution_count": null,
      "outputs": [
        {
          "output_type": "stream",
          "text": [
            "Collecting bayesian-optimization\n",
            "  Downloading https://files.pythonhosted.org/packages/bb/7a/fd8059a3881d3ab37ac8f72f56b73937a14e8bb14a9733e68cc8b17dbe3c/bayesian-optimization-1.2.0.tar.gz\n",
            "Requirement already satisfied: numpy>=1.9.0 in /usr/local/lib/python3.6/dist-packages (from bayesian-optimization) (1.19.5)\n",
            "Requirement already satisfied: scipy>=0.14.0 in /usr/local/lib/python3.6/dist-packages (from bayesian-optimization) (1.4.1)\n",
            "Requirement already satisfied: scikit-learn>=0.18.0 in /usr/local/lib/python3.6/dist-packages (from bayesian-optimization) (0.22.2.post1)\n",
            "Requirement already satisfied: joblib>=0.11 in /usr/local/lib/python3.6/dist-packages (from scikit-learn>=0.18.0->bayesian-optimization) (1.0.0)\n",
            "Building wheels for collected packages: bayesian-optimization\n",
            "  Building wheel for bayesian-optimization (setup.py) ... \u001b[?25l\u001b[?25hdone\n",
            "  Created wheel for bayesian-optimization: filename=bayesian_optimization-1.2.0-cp36-none-any.whl size=11685 sha256=e5efc911fd57415a1ebb699cb904d261c923bd2e9d2f72940f4f0040136864c3\n",
            "  Stored in directory: /root/.cache/pip/wheels/5a/56/ae/e0e3c1fc1954dc3ec712e2df547235ed072b448094d8f94aec\n",
            "Successfully built bayesian-optimization\n",
            "Installing collected packages: bayesian-optimization\n",
            "Successfully installed bayesian-optimization-1.2.0\n"
          ],
          "name": "stdout"
        }
      ]
    },
    {
      "cell_type": "code",
      "metadata": {
        "id": "gGTn4YgArbf8"
      },
      "source": [
        "# 라이브러리 불러오기\n",
        "import lightgbm as lgbm\n",
        "from bayes_opt import BayesianOptimization\n",
        "from sklearn.metrics import roc_auc_score, make_scorer, f1_score\n",
        "from sklearn.model_selection import cross_validate"
      ],
      "execution_count": null,
      "outputs": []
    },
    {
      "cell_type": "code",
      "metadata": {
        "id": "K5EVhJTkIhK3"
      },
      "source": [
        "def lgb_f1_score(y_hat, data):\n",
        "    y_true = data.get_label().astype(int)\n",
        "    y_hat = np.round(y_hat).astype(int) # scikits f1 doesn't like probabilities\n",
        "    return 'f1', f1_score(y_true, y_hat, average='weighted'), True"
      ],
      "execution_count": null,
      "outputs": []
    },
    {
      "cell_type": "code",
      "metadata": {
        "id": "ZSb8QJV6emf1"
      },
      "source": [
        "# 하이퍼 파라미터 탐색 함수 생성\n",
        "def lgbm_cv(learning_rate, num_leaves, max_depth, min_child_weight, colsample_bytree, feature_fraction, bagging_fraction, lambda_l1, lambda_l2):\n",
        "    model = lgbm.LGBMClassifier(learning_rate=learning_rate,\n",
        "                                n_estimators = 300,\n",
        "                                num_leaves = int(round(num_leaves)),\n",
        "                                max_depth = int(round(max_depth)),\n",
        "                                min_child_weight = int(round(min_child_weight)),\n",
        "                                colsample_bytree = colsample_bytree,\n",
        "                                feature_fraction = max(min(feature_fraction, 1), 0),\n",
        "                                bagging_fraction = max(min(bagging_fraction, 1), 0),\n",
        "                                lambda_l1 = max(lambda_l1, 0),\n",
        "                                lambda_l2 = max(lambda_l2, 0)\n",
        "                               )\n",
        "    scoring = {'f1_score': make_scorer(f1_score)}\n",
        "    result = cross_validate(model, x_train_smote, y_train_smote, cv=5, scoring=scoring)\n",
        "    f1_score = result[\"test_f1_score\"].mean()\n",
        "    return f1_score"
      ],
      "execution_count": null,
      "outputs": []
    },
    {
      "cell_type": "code",
      "metadata": {
        "id": "GiHcg-7Te-y6"
      },
      "source": [
        "# 파라미터 탐색 구간\n",
        "pbounds = {'learning_rate' : (0.01, 0.05),\n",
        "           'num_leaves': (300, 600),\n",
        "           'max_depth': (2, 25),\n",
        "           'min_child_weight': (30, 100),\n",
        "           'colsample_bytree': (0, 0.99),\n",
        "           'feature_fraction': (0.0001, 0.99),\n",
        "           'bagging_fraction': (0.0001, 0.99),\n",
        "           'lambda_l1' : (0, 0.99),\n",
        "           'lambda_l2' : (0, 0.99),\n",
        "          }"
      ],
      "execution_count": null,
      "outputs": []
    },
    {
      "cell_type": "code",
      "metadata": {
        "colab": {
          "base_uri": "https://localhost:8080/"
        },
        "id": "MiJsoPnvnmoQ",
        "outputId": "4b83e8d5-e644-4ac2-be86-9ff733c7b7e9"
      },
      "source": [
        "# 랜덤 파라미터 생성\n",
        "lgbmBO = BayesianOptimization(f = lgbm_cv, pbounds = pbounds, verbose = 2, random_state = 207)\n",
        "lgbmBO.maximize(init_points=5, n_iter = 20, acq='ei', xi=0.01)"
      ],
      "execution_count": null,
      "outputs": [
        {
          "output_type": "stream",
          "text": [
            "|   iter    |  target   | baggin... | colsam... | featur... | lambda_l1 | lambda_l2 | learni... | max_depth | min_ch... | num_le... |\n",
            "-------------------------------------------------------------------------------------------------------------------------------------\n",
            "| \u001b[0m 1       \u001b[0m | \u001b[0m 0.9999  \u001b[0m | \u001b[0m 0.498   \u001b[0m | \u001b[0m 0.3624  \u001b[0m | \u001b[0m 0.4429  \u001b[0m | \u001b[0m 0.3583  \u001b[0m | \u001b[0m 0.6293  \u001b[0m | \u001b[0m 0.03159 \u001b[0m | \u001b[0m 10.02   \u001b[0m | \u001b[0m 31.15   \u001b[0m | \u001b[0m 462.4   \u001b[0m |\n",
            "| \u001b[0m 2       \u001b[0m | \u001b[0m 0.9882  \u001b[0m | \u001b[0m 0.02598 \u001b[0m | \u001b[0m 0.09748 \u001b[0m | \u001b[0m 0.8384  \u001b[0m | \u001b[0m 0.8219  \u001b[0m | \u001b[0m 0.8749  \u001b[0m | \u001b[0m 0.03358 \u001b[0m | \u001b[0m 2.708   \u001b[0m | \u001b[0m 71.37   \u001b[0m | \u001b[0m 354.7   \u001b[0m |\n",
            "| \u001b[0m 3       \u001b[0m | \u001b[0m 0.9977  \u001b[0m | \u001b[0m 0.6211  \u001b[0m | \u001b[0m 0.1951  \u001b[0m | \u001b[0m 0.2552  \u001b[0m | \u001b[0m 0.9724  \u001b[0m | \u001b[0m 0.3936  \u001b[0m | \u001b[0m 0.0318  \u001b[0m | \u001b[0m 5.403   \u001b[0m | \u001b[0m 76.39   \u001b[0m | \u001b[0m 584.1   \u001b[0m |\n",
            "| \u001b[0m 4       \u001b[0m | \u001b[0m 0.9779  \u001b[0m | \u001b[0m 0.6027  \u001b[0m | \u001b[0m 0.9031  \u001b[0m | \u001b[0m 0.05214 \u001b[0m | \u001b[0m 0.9324  \u001b[0m | \u001b[0m 0.08896 \u001b[0m | \u001b[0m 0.04567 \u001b[0m | \u001b[0m 19.94   \u001b[0m | \u001b[0m 48.58   \u001b[0m | \u001b[0m 403.8   \u001b[0m |\n",
            "| \u001b[0m 5       \u001b[0m | \u001b[0m 0.9964  \u001b[0m | \u001b[0m 0.4734  \u001b[0m | \u001b[0m 0.1796  \u001b[0m | \u001b[0m 0.08379 \u001b[0m | \u001b[0m 0.5865  \u001b[0m | \u001b[0m 0.7819  \u001b[0m | \u001b[0m 0.023   \u001b[0m | \u001b[0m 16.41   \u001b[0m | \u001b[0m 30.72   \u001b[0m | \u001b[0m 547.4   \u001b[0m |\n",
            "| \u001b[0m 6       \u001b[0m | \u001b[0m 0.9854  \u001b[0m | \u001b[0m 0.1841  \u001b[0m | \u001b[0m 0.2571  \u001b[0m | \u001b[0m 0.7683  \u001b[0m | \u001b[0m 0.6674  \u001b[0m | \u001b[0m 0.2009  \u001b[0m | \u001b[0m 0.04939 \u001b[0m | \u001b[0m 2.154   \u001b[0m | \u001b[0m 30.42   \u001b[0m | \u001b[0m 570.7   \u001b[0m |\n",
            "| \u001b[0m 7       \u001b[0m | \u001b[0m 0.9846  \u001b[0m | \u001b[0m 0.619   \u001b[0m | \u001b[0m 0.1451  \u001b[0m | \u001b[0m 0.08449 \u001b[0m | \u001b[0m 0.8662  \u001b[0m | \u001b[0m 0.6711  \u001b[0m | \u001b[0m 0.02593 \u001b[0m | \u001b[0m 6.43    \u001b[0m | \u001b[0m 31.25   \u001b[0m | \u001b[0m 461.9   \u001b[0m |\n",
            "| \u001b[0m 8       \u001b[0m | \u001b[0m 0.9961  \u001b[0m | \u001b[0m 0.0001  \u001b[0m | \u001b[0m 0.99    \u001b[0m | \u001b[0m 0.99    \u001b[0m | \u001b[0m 0.0     \u001b[0m | \u001b[0m 0.6856  \u001b[0m | \u001b[0m 0.01    \u001b[0m | \u001b[0m 25.0    \u001b[0m | \u001b[0m 100.0   \u001b[0m | \u001b[0m 300.0   \u001b[0m |\n",
            "| \u001b[95m 9       \u001b[0m | \u001b[95m 0.9999  \u001b[0m | \u001b[95m 0.6995  \u001b[0m | \u001b[95m 0.8155  \u001b[0m | \u001b[95m 0.4764  \u001b[0m | \u001b[95m 0.3785  \u001b[0m | \u001b[95m 0.8067  \u001b[0m | \u001b[95m 0.04311 \u001b[0m | \u001b[95m 11.32   \u001b[0m | \u001b[95m 30.49   \u001b[0m | \u001b[95m 301.1   \u001b[0m |\n",
            "| \u001b[0m 10      \u001b[0m | \u001b[0m 0.9998  \u001b[0m | \u001b[0m 0.7899  \u001b[0m | \u001b[0m 0.2371  \u001b[0m | \u001b[0m 0.6892  \u001b[0m | \u001b[0m 0.9636  \u001b[0m | \u001b[0m 0.766   \u001b[0m | \u001b[0m 0.03743 \u001b[0m | \u001b[0m 24.92   \u001b[0m | \u001b[0m 39.74   \u001b[0m | \u001b[0m 600.0   \u001b[0m |\n",
            "| \u001b[0m 11      \u001b[0m | \u001b[0m 0.9997  \u001b[0m | \u001b[0m 0.02278 \u001b[0m | \u001b[0m 0.3648  \u001b[0m | \u001b[0m 0.3503  \u001b[0m | \u001b[0m 0.6054  \u001b[0m | \u001b[0m 0.98    \u001b[0m | \u001b[0m 0.03818 \u001b[0m | \u001b[0m 24.0    \u001b[0m | \u001b[0m 99.58   \u001b[0m | \u001b[0m 477.3   \u001b[0m |\n",
            "| \u001b[0m 12      \u001b[0m | \u001b[0m 0.9998  \u001b[0m | \u001b[0m 0.3109  \u001b[0m | \u001b[0m 0.3066  \u001b[0m | \u001b[0m 0.8871  \u001b[0m | \u001b[0m 0.7305  \u001b[0m | \u001b[0m 0.8085  \u001b[0m | \u001b[0m 0.02779 \u001b[0m | \u001b[0m 24.74   \u001b[0m | \u001b[0m 32.33   \u001b[0m | \u001b[0m 477.9   \u001b[0m |\n",
            "| \u001b[0m 13      \u001b[0m | \u001b[0m 0.9997  \u001b[0m | \u001b[0m 0.4378  \u001b[0m | \u001b[0m 0.6796  \u001b[0m | \u001b[0m 0.3338  \u001b[0m | \u001b[0m 0.4703  \u001b[0m | \u001b[0m 0.8401  \u001b[0m | \u001b[0m 0.02993 \u001b[0m | \u001b[0m 24.57   \u001b[0m | \u001b[0m 99.97   \u001b[0m | \u001b[0m 593.0   \u001b[0m |\n",
            "| \u001b[0m 14      \u001b[0m | \u001b[0m 0.9862  \u001b[0m | \u001b[0m 0.3145  \u001b[0m | \u001b[0m 0.9321  \u001b[0m | \u001b[0m 0.229   \u001b[0m | \u001b[0m 0.5357  \u001b[0m | \u001b[0m 0.2744  \u001b[0m | \u001b[0m 0.03284 \u001b[0m | \u001b[0m 2.578   \u001b[0m | \u001b[0m 99.81   \u001b[0m | \u001b[0m 306.3   \u001b[0m |\n",
            "| \u001b[0m 15      \u001b[0m | \u001b[0m 0.9996  \u001b[0m | \u001b[0m 0.1329  \u001b[0m | \u001b[0m 0.8822  \u001b[0m | \u001b[0m 0.9615  \u001b[0m | \u001b[0m 0.1279  \u001b[0m | \u001b[0m 0.1106  \u001b[0m | \u001b[0m 0.04425 \u001b[0m | \u001b[0m 14.52   \u001b[0m | \u001b[0m 97.16   \u001b[0m | \u001b[0m 547.7   \u001b[0m |\n",
            "| \u001b[0m 16      \u001b[0m | \u001b[0m 0.999   \u001b[0m | \u001b[0m 0.4052  \u001b[0m | \u001b[0m 0.04094 \u001b[0m | \u001b[0m 0.5356  \u001b[0m | \u001b[0m 0.06049 \u001b[0m | \u001b[0m 0.6643  \u001b[0m | \u001b[0m 0.01621 \u001b[0m | \u001b[0m 23.11   \u001b[0m | \u001b[0m 99.65   \u001b[0m | \u001b[0m 378.4   \u001b[0m |\n",
            "| \u001b[0m 17      \u001b[0m | \u001b[0m 0.9998  \u001b[0m | \u001b[0m 0.8408  \u001b[0m | \u001b[0m 0.7458  \u001b[0m | \u001b[0m 0.8583  \u001b[0m | \u001b[0m 0.0233  \u001b[0m | \u001b[0m 0.05922 \u001b[0m | \u001b[0m 0.04521 \u001b[0m | \u001b[0m 24.36   \u001b[0m | \u001b[0m 52.04   \u001b[0m | \u001b[0m 569.1   \u001b[0m |\n",
            "| \u001b[0m 18      \u001b[0m | \u001b[0m 0.9973  \u001b[0m | \u001b[0m 0.7713  \u001b[0m | \u001b[0m 0.4415  \u001b[0m | \u001b[0m 0.8171  \u001b[0m | \u001b[0m 0.07136 \u001b[0m | \u001b[0m 0.2082  \u001b[0m | \u001b[0m 0.03136 \u001b[0m | \u001b[0m 4.659   \u001b[0m | \u001b[0m 97.84   \u001b[0m | \u001b[0m 592.0   \u001b[0m |\n",
            "| \u001b[0m 19      \u001b[0m | \u001b[0m 0.9999  \u001b[0m | \u001b[0m 0.6387  \u001b[0m | \u001b[0m 0.6783  \u001b[0m | \u001b[0m 0.8065  \u001b[0m | \u001b[0m 0.2065  \u001b[0m | \u001b[0m 0.7113  \u001b[0m | \u001b[0m 0.04448 \u001b[0m | \u001b[0m 24.41   \u001b[0m | \u001b[0m 30.54   \u001b[0m | \u001b[0m 328.2   \u001b[0m |\n",
            "| \u001b[0m 20      \u001b[0m | \u001b[0m 0.9998  \u001b[0m | \u001b[0m 0.1402  \u001b[0m | \u001b[0m 0.2164  \u001b[0m | \u001b[0m 0.7355  \u001b[0m | \u001b[0m 0.005985\u001b[0m | \u001b[0m 0.6709  \u001b[0m | \u001b[0m 0.02012 \u001b[0m | \u001b[0m 22.55   \u001b[0m | \u001b[0m 32.32   \u001b[0m | \u001b[0m 448.5   \u001b[0m |\n",
            "| \u001b[0m 21      \u001b[0m | \u001b[0m 0.9994  \u001b[0m | \u001b[0m 0.4009  \u001b[0m | \u001b[0m 0.808   \u001b[0m | \u001b[0m 0.8372  \u001b[0m | \u001b[0m 0.1417  \u001b[0m | \u001b[0m 0.9326  \u001b[0m | \u001b[0m 0.01954 \u001b[0m | \u001b[0m 19.36   \u001b[0m | \u001b[0m 71.5    \u001b[0m | \u001b[0m 600.0   \u001b[0m |\n",
            "| \u001b[0m 22      \u001b[0m | \u001b[0m 0.9997  \u001b[0m | \u001b[0m 0.1943  \u001b[0m | \u001b[0m 0.8482  \u001b[0m | \u001b[0m 0.4818  \u001b[0m | \u001b[0m 0.04985 \u001b[0m | \u001b[0m 0.9347  \u001b[0m | \u001b[0m 0.03426 \u001b[0m | \u001b[0m 8.71    \u001b[0m | \u001b[0m 98.61   \u001b[0m | \u001b[0m 434.8   \u001b[0m |\n",
            "| \u001b[0m 23      \u001b[0m | \u001b[0m 0.9996  \u001b[0m | \u001b[0m 0.05908 \u001b[0m | \u001b[0m 0.9734  \u001b[0m | \u001b[0m 0.8339  \u001b[0m | \u001b[0m 0.03253 \u001b[0m | \u001b[0m 0.1795  \u001b[0m | \u001b[0m 0.02133 \u001b[0m | \u001b[0m 23.75   \u001b[0m | \u001b[0m 65.95   \u001b[0m | \u001b[0m 318.4   \u001b[0m |\n",
            "| \u001b[0m 24      \u001b[0m | \u001b[0m 0.9998  \u001b[0m | \u001b[0m 0.1879  \u001b[0m | \u001b[0m 0.9349  \u001b[0m | \u001b[0m 0.8968  \u001b[0m | \u001b[0m 0.05174 \u001b[0m | \u001b[0m 0.3894  \u001b[0m | \u001b[0m 0.03756 \u001b[0m | \u001b[0m 17.14   \u001b[0m | \u001b[0m 64.32   \u001b[0m | \u001b[0m 483.2   \u001b[0m |\n",
            "| \u001b[0m 25      \u001b[0m | \u001b[0m 0.9756  \u001b[0m | \u001b[0m 0.5122  \u001b[0m | \u001b[0m 0.8049  \u001b[0m | \u001b[0m 0.7323  \u001b[0m | \u001b[0m 0.09921 \u001b[0m | \u001b[0m 0.5307  \u001b[0m | \u001b[0m 0.02001 \u001b[0m | \u001b[0m 2.067   \u001b[0m | \u001b[0m 31.91   \u001b[0m | \u001b[0m 342.8   \u001b[0m |\n",
            "=====================================================================================================================================\n"
          ],
          "name": "stdout"
        }
      ]
    },
    {
      "cell_type": "code",
      "metadata": {
        "colab": {
          "base_uri": "https://localhost:8080/"
        },
        "id": "P8lz3NQSqkz3",
        "outputId": "1e46f5d4-3b8b-4530-9f43-640b496bb580"
      },
      "source": [
        "# max 파라미터\n",
        "lgbmBO.max"
      ],
      "execution_count": null,
      "outputs": [
        {
          "output_type": "execute_result",
          "data": {
            "text/plain": [
              "{'params': {'bagging_fraction': 0.6995196530726653,\n",
              "  'colsample_bytree': 0.8154730273989589,\n",
              "  'feature_fraction': 0.47637206677334143,\n",
              "  'lambda_l1': 0.3784541644450563,\n",
              "  'lambda_l2': 0.8067472771124881,\n",
              "  'learning_rate': 0.04311120781400105,\n",
              "  'max_depth': 11.324101657707663,\n",
              "  'min_child_weight': 30.488952637035492,\n",
              "  'num_leaves': 301.14586150787403},\n",
              " 'target': 0.9999123648231091}"
            ]
          },
          "metadata": {
            "tags": []
          },
          "execution_count": 49
        }
      ]
    },
    {
      "cell_type": "code",
      "metadata": {
        "id": "c3VkhpTbqviE",
        "colab": {
          "base_uri": "https://localhost:8080/"
        },
        "outputId": "d8e76be1-5452-47d4-be25-82679d4a5b9b"
      },
      "source": [
        "# lgbm 모델 생성\n",
        "fit_lgbm = lgbm.LGBMClassifier(learning_rate=lgbmBO.max['params']['learning_rate'],\n",
        "                               num_leaves = int(round(lgbmBO.max['params']['num_leaves'])),\n",
        "                               max_depth = int(round(lgbmBO.max['params']['max_depth'])),\n",
        "                               min_child_weight = int(round(lgbmBO.max['params']['min_child_weight'])),\n",
        "                               colsample_bytree=lgbmBO.max['params']['colsample_bytree'],\n",
        "                               feature_fraction = max(min(lgbmBO.max['params']['feature_fraction'], 1), 0),\n",
        "                               bagging_fraction = max(min(lgbmBO.max['params']['bagging_fraction'], 1), 0),\n",
        "                               lambda_l1 = lgbmBO.max['params']['lambda_l1'],\n",
        "                               lambda_l2 = lgbmBO.max['params']['lambda_l2']\n",
        "                               )\n",
        "\n",
        "fit_lgbm.fit(x_train_smote,y_train_smote)"
      ],
      "execution_count": null,
      "outputs": [
        {
          "output_type": "execute_result",
          "data": {
            "text/plain": [
              "LGBMClassifier(bagging_fraction=0.6995196530726653, boosting_type='gbdt',\n",
              "               class_weight=None, colsample_bytree=0.8154730273989589,\n",
              "               feature_fraction=0.47637206677334143, importance_type='split',\n",
              "               lambda_l1=0.3784541644450563, lambda_l2=0.8067472771124881,\n",
              "               learning_rate=0.04311120781400105, max_depth=11,\n",
              "               min_child_samples=20, min_child_weight=30, min_split_gain=0.0,\n",
              "               n_estimators=100, n_jobs=-1, num_leaves=301, objective=None,\n",
              "               random_state=None, reg_alpha=0.0, reg_lambda=0.0, silent=True,\n",
              "               subsample=1.0, subsample_for_bin=200000, subsample_freq=0)"
            ]
          },
          "metadata": {
            "tags": []
          },
          "execution_count": 50
        }
      ]
    },
    {
      "cell_type": "code",
      "metadata": {
        "colab": {
          "base_uri": "https://localhost:8080/"
        },
        "id": "H2voupt4gMtO",
        "outputId": "3b448520-8f03-45f6-d828-8ca931c7ded8"
      },
      "source": [
        "fit_lgbm = lgbm.LGBMClassifier(bagging_fraction=0.6995196530726653, boosting_type='gbdt',\n",
        "               class_weight=None, colsample_bytree=0.8154730273989589,\n",
        "               feature_fraction=0.47637206677334143, importance_type='split',\n",
        "               lambda_l1=0.3784541644450563, lambda_l2=0.8067472771124881,\n",
        "               learning_rate=0.04311120781400105, max_depth=11,\n",
        "               min_child_samples=20, min_child_weight=30, min_split_gain=0.0,\n",
        "               n_estimators=100, n_jobs=-1, num_leaves=301, objective=None,\n",
        "               random_state=None, reg_alpha=0.0, reg_lambda=0.0, silent=True,\n",
        "               subsample=1.0, subsample_for_bin=200000, subsample_freq=0)\n",
        "\n",
        "fit_lgbm.fit(x_train_st,y_train_st)"
      ],
      "execution_count": null,
      "outputs": [
        {
          "output_type": "execute_result",
          "data": {
            "text/plain": [
              "LGBMClassifier(bagging_fraction=0.6995196530726653, boosting_type='gbdt',\n",
              "               class_weight=None, colsample_bytree=0.8154730273989589,\n",
              "               feature_fraction=0.47637206677334143, importance_type='split',\n",
              "               lambda_l1=0.3784541644450563, lambda_l2=0.8067472771124881,\n",
              "               learning_rate=0.04311120781400105, max_depth=11,\n",
              "               min_child_samples=20, min_child_weight=30, min_split_gain=0.0,\n",
              "               n_estimators=100, n_jobs=-1, num_leaves=301, objective=None,\n",
              "               random_state=None, reg_alpha=0.0, reg_lambda=0.0, silent=True,\n",
              "               subsample=1.0, subsample_for_bin=200000, subsample_freq=0)"
            ]
          },
          "metadata": {
            "tags": []
          },
          "execution_count": 39
        }
      ]
    },
    {
      "cell_type": "code",
      "metadata": {
        "id": "b91TWVFYrnhG"
      },
      "source": [
        "from sklearn.metrics import accuracy_score\n",
        "from sklearn.metrics import confusion_matrix\n",
        "from sklearn.metrics import classification_report"
      ],
      "execution_count": null,
      "outputs": []
    },
    {
      "cell_type": "code",
      "metadata": {
        "colab": {
          "base_uri": "https://localhost:8080/"
        },
        "id": "lP-av87Kq0M-",
        "outputId": "7f47925f-8ff9-4a2b-de62-79fc3d6f8a70"
      },
      "source": [
        "y_pred=fit_lgbm.predict(x_test)\n",
        "accuracy=accuracy_score(y_pred, y_test)\n",
        "# 정확도 확인\n",
        "print('LightGBM Model accuracy score: {0:0.4f}'.format(accuracy_score(y_test, y_pred)))\n",
        "# 과적합 확인\n",
        "print('Train set score: {:.4f}'.format(fit_lgbm.score(x_train_smote, y_train_smote)))\n",
        "print('Test set score: {:.4f}'.format(fit_lgbm.score(x_test, y_test)))"
      ],
      "execution_count": null,
      "outputs": [
        {
          "output_type": "stream",
          "text": [
            "LightGBM Model accuracy score: 0.9995\n",
            "Train set score: 0.9999\n",
            "Test set score: 0.9995\n"
          ],
          "name": "stdout"
        }
      ]
    },
    {
      "cell_type": "code",
      "metadata": {
        "colab": {
          "base_uri": "https://localhost:8080/"
        },
        "id": "WjBPEsgRgwb4",
        "outputId": "c924625c-4fe7-4317-cc00-7f6989641732"
      },
      "source": [
        "y_pred=fit_lgbm.predict(x_test)\n",
        "accuracy=accuracy_score(y_pred, y_test)\n",
        "# 정확도 확인\n",
        "print('LightGBM Model accuracy score: {0:0.4f}'.format(accuracy_score(y_test, y_pred)))\n",
        "# 과적합 확인\n",
        "print('Train set score: {:.4f}'.format(fit_lgbm.score(x_train_st, y_train_st)))\n",
        "print('Test set score: {:.4f}'.format(fit_lgbm.score(x_test, y_test)))"
      ],
      "execution_count": null,
      "outputs": [
        {
          "output_type": "stream",
          "text": [
            "LightGBM Model accuracy score: 0.9995\n",
            "Train set score: 0.9999\n",
            "Test set score: 0.9995\n"
          ],
          "name": "stdout"
        }
      ]
    },
    {
      "cell_type": "code",
      "metadata": {
        "id": "cnL7rC9Uq4zk",
        "colab": {
          "base_uri": "https://localhost:8080/",
          "height": 300
        },
        "outputId": "0c4ab10a-e97f-4280-c175-60f515cafebe"
      },
      "source": [
        "cm = confusion_matrix(y_pred, y_test)\n",
        "cm_matrix = pd.DataFrame(data=cm, columns=['Actual Positive:1', 'Actual Negative:0'], \n",
        "                                 index=['Predict Positive:1', 'Predict Negative:0'])\n",
        "sns.heatmap(cm_matrix, annot=True, fmt='d', cmap='YlGnBu')"
      ],
      "execution_count": null,
      "outputs": [
        {
          "output_type": "execute_result",
          "data": {
            "text/plain": [
              "<matplotlib.axes._subplots.AxesSubplot at 0x7fd76746ac18>"
            ]
          },
          "metadata": {
            "tags": []
          },
          "execution_count": 41
        },
        {
          "output_type": "display_data",
          "data": {
            "image/png": "[encoded data removed]",
            "text/plain": [
              "<Figure size 432x288 with 2 Axes>"
            ]
          },
          "metadata": {
            "tags": [],
            "needs_background": "light"
          }
        }
      ]
    },
    {
      "cell_type": "code",
      "metadata": {
        "colab": {
          "base_uri": "https://localhost:8080/"
        },
        "id": "VBFEh44Grvi4",
        "outputId": "6f078041-d1be-4a78-aa11-2998c9dda577"
      },
      "source": [
        "print(classification_report(y_test, y_pred))"
      ],
      "execution_count": null,
      "outputs": [
        {
          "output_type": "stream",
          "text": [
            "              precision    recall  f1-score   support\n",
            "\n",
            "           0       1.00      1.00      1.00     83158\n",
            "           1       0.80      0.88      0.84       128\n",
            "\n",
            "    accuracy                           1.00     83286\n",
            "   macro avg       0.90      0.94      0.92     83286\n",
            "weighted avg       1.00      1.00      1.00     83286\n",
            "\n"
          ],
          "name": "stdout"
        }
      ]
    },
    {
      "cell_type": "code",
      "metadata": {
        "id": "xDb2cM4mWya3",
        "colab": {
          "base_uri": "https://localhost:8080/"
        },
        "outputId": "8ab7e369-a993-48f2-b007-1065f0c044a4"
      },
      "source": [
        " print(classification_report(y_test, y_pred))"
      ],
      "execution_count": null,
      "outputs": [
        {
          "output_type": "stream",
          "text": [
            "              precision    recall  f1-score   support\n",
            "\n",
            "           0       1.00      1.00      1.00     83158\n",
            "           1       0.75      0.88      0.81       128\n",
            "\n",
            "    accuracy                           1.00     83286\n",
            "   macro avg       0.87      0.94      0.90     83286\n",
            "weighted avg       1.00      1.00      1.00     83286\n",
            "\n"
          ],
          "name": "stdout"
        }
      ]
    },
    {
      "cell_type": "code",
      "metadata": {
        "id": "nDO5OPvhg4gF"
      },
      "source": [
        ""
      ],
      "execution_count": null,
      "outputs": []
    }
  ]
}